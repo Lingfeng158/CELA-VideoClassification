{
 "cells": [
  {
   "cell_type": "code",
   "execution_count": 5,
   "metadata": {},
   "outputs": [],
   "source": [
    "import os\n",
    "import subprocess\n",
    "import multiprocessing \n",
    "import threading\n",
    "from functools import partial\n",
    "from PIL import Image"
   ]
  },
  {
   "cell_type": "code",
   "execution_count": 6,
   "metadata": {},
   "outputs": [],
   "source": [
    "def makedir(dirName):\n",
    "    cmd=\"mkdir {}\"\n",
    "    os.system(cmd.format( dirName))"
   ]
  },
  {
   "cell_type": "code",
   "execution_count": 7,
   "metadata": {},
   "outputs": [
    {
     "data": {
      "text/plain": [
       "8"
      ]
     },
     "execution_count": 7,
     "metadata": {},
     "output_type": "execute_result"
    }
   ],
   "source": [
    "thCount=multiprocessing.cpu_count()\n",
    "thCount"
   ]
  },
  {
   "cell_type": "code",
   "execution_count": 9,
   "metadata": {},
   "outputs": [],
   "source": [
    "def resizeImg(ID, directoryList):\n",
    "    print(directoryList[ID]+' ')\n",
    "    #create a new subfolder in new directory\n",
    "    makedir(os.path.join(longPathToNew, newDirName, folder, '\"'+directoryList[ID]+'\"'))\n",
    "    #in the subfolder of old directory\n",
    "    fullPath=os.path.join(longPathToOld, oldDirName, folder, directoryList[ID])\n",
    "    fullPathToNew=os.path.join(longPathToNew, newDirName, folder, directoryList[ID])\n",
    "    elementList=os.listdir(fullPath)\n",
    "    if('.DS_Store' in elementList):\n",
    "        elementList.remove('.DS_Store')\n",
    "    for element in elementList:\n",
    "        subjectNo=element[:2]\n",
    "        pathToElement=os.path.join(fullPath,element)\n",
    "        img=Image.open(pathToElement, 'r')\n",
    "        if subjectNo == 'S3':\n",
    "            img=img.crop((0,216,1706,1944))\n",
    "        else:\n",
    "            img=img.crop((1706,216,3413,1944))\n",
    "        img=img.resize((256,256), resample=Image.LANCZOS)\n",
    "        img.save(os.path.join(fullPathToNew,element),optimize=True, quality=90)"
   ]
  },
  {
   "cell_type": "code",
   "execution_count": 13,
   "metadata": {},
   "outputs": [
    {
     "name": "stdout",
     "output_type": "stream",
     "text": [
      "Performing operation for Test\n",
      "\n",
      "BAGGING \n"
     ]
    }
   ],
   "source": [
    "newDirName='NewResized'\n",
    "oldDirName='BigFrameData'\n",
    "longPathToOld='/media/billy/External'\n",
    "longPathToNew='/home/billy/Desktop'\n",
    "cmd=\"mkdir {}\"\n",
    "ignoreList=['CLAP','INCISION','INTUBATION-STYLETE','MEDICATION','PLACE CUFF']\n",
    "# tinyList=['CHEST-TUBE PREP','KING AIRWAY','SPLINTING']\n",
    "# smallList=['BLOOD-PRESSURE CUFF','COMBAT GAUZE','COMBAT TOURNIQUET','ECG LEADS','INTUBATION','IO LINE','PULSE-OX','VITAL CHECKING','WRAP HEAD WOUND']\n",
    "# mediumList=['BAGGING','CHEST-TUBE','IM ADMINISTRATION','IV TOURNIQUET','SUTURING','IV LINE']\n",
    "# frameGap=5\n",
    "makedir(os.path.join(longPathToNew,newDirName))\n",
    "#symbol link from the original file to new location after classification\n",
    "#symbol link example: ln -sf source destination\n",
    "folderList=['Test']\n",
    "\n",
    "for folder in folderList:\n",
    "    print('Performing operation for '+ folder+'\\n')\n",
    "#     if os.path.exists(os.path.join(longPathToNew, newDirName, folder)):\n",
    "#         print('Folder '+ folder +' already exists, skip\\n')\n",
    "#         continue\n",
    "    makedir(os.path.join(longPathToNew, newDirName, folder))\n",
    "    target=\"{}/{}\".format(oldDirName, folder)\n",
    "    dirList=os.listdir(os.path.join(longPathToOld, target))\n",
    "    if('.DS_Store' in dirList):\n",
    "        dirList.remove('.DS_Store')\n",
    "    for cate in dirList:\n",
    "        if cate in ignoreList:\n",
    "            dirList.remove(cate)\n",
    "    #dirList=['BAGGING']\n",
    "    thCount=multiprocessing.cpu_count()\n",
    "    pool = multiprocessing.Pool(int(thCount/2))\n",
    "    partial_resizeImg=partial(resizeImg, directoryList=dirList)\n",
    "    N = len(dirList)\n",
    "    _=pool.map(partial_resizeImg,range(N))\n",
    "    pool.close()\n",
    "    pool.join()"
   ]
  },
  {
   "cell_type": "code",
   "execution_count": null,
   "metadata": {},
   "outputs": [],
   "source": []
  },
  {
   "cell_type": "code",
   "execution_count": null,
   "metadata": {},
   "outputs": [],
   "source": []
  },
  {
   "cell_type": "code",
   "execution_count": null,
   "metadata": {},
   "outputs": [],
   "source": []
  },
  {
   "cell_type": "code",
   "execution_count": null,
   "metadata": {},
   "outputs": [],
   "source": []
  },
  {
   "cell_type": "code",
   "execution_count": null,
   "metadata": {},
   "outputs": [],
   "source": []
  },
  {
   "cell_type": "code",
   "execution_count": null,
   "metadata": {},
   "outputs": [],
   "source": []
  },
  {
   "cell_type": "code",
   "execution_count": null,
   "metadata": {},
   "outputs": [],
   "source": []
  }
 ],
 "metadata": {
  "kernelspec": {
   "display_name": "Python 3",
   "language": "python",
   "name": "python3"
  },
  "language_info": {
   "codemirror_mode": {
    "name": "ipython",
    "version": 3
   },
   "file_extension": ".py",
   "mimetype": "text/x-python",
   "name": "python",
   "nbconvert_exporter": "python",
   "pygments_lexer": "ipython3",
   "version": "3.7.3"
  }
 },
 "nbformat": 4,
 "nbformat_minor": 2
}
