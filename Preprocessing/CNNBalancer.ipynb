{
 "cells": [
  {
   "cell_type": "code",
   "execution_count": 14,
   "metadata": {},
   "outputs": [],
   "source": [
    "import os\n",
    "import subprocess\n",
    "import multiprocessing \n",
    "import threading\n",
    "import random\n",
    "from functools import partial\n",
    "from PIL import Image"
   ]
  },
  {
   "cell_type": "code",
   "execution_count": 15,
   "metadata": {},
   "outputs": [],
   "source": [
    "def makedir(dirName):\n",
    "    cmd=\"mkdir {}\"\n",
    "    os.system(cmd.format( dirName))"
   ]
  },
  {
   "cell_type": "code",
   "execution_count": 16,
   "metadata": {},
   "outputs": [],
   "source": [
    "def statData(pathToFolder):\n",
    "    \"\"\"\n",
    "    pathToFolder: one of TTV, under which are category folders\n",
    "    \"\"\"\n",
    "    cateLst=os.listdir(pathToFolder)\n",
    "    lengthLst=[]\n",
    "    for cate in cateLst:\n",
    "        pathToCate=os.path.join(pathToFolder,cate)\n",
    "        lengthLst.append(len(os.listdir(pathToCate)))\n",
    "    return lengthLst"
   ]
  },
  {
   "cell_type": "code",
   "execution_count": 17,
   "metadata": {},
   "outputs": [],
   "source": [
    "lst=statData('/home/livelab/Desktop/NewResizedTriSubj/Training')"
   ]
  },
  {
   "cell_type": "code",
   "execution_count": 18,
   "metadata": {},
   "outputs": [],
   "source": [
    "lst.sort()"
   ]
  },
  {
   "cell_type": "code",
   "execution_count": 19,
   "metadata": {
    "scrolled": true
   },
   "outputs": [
    {
     "data": {
      "text/plain": [
       "[2318,\n",
       " 3165,\n",
       " 3209,\n",
       " 4510,\n",
       " 6252,\n",
       " 6354,\n",
       " 7611,\n",
       " 7757,\n",
       " 8022,\n",
       " 8264,\n",
       " 8822,\n",
       " 9540,\n",
       " 9938,\n",
       " 11279,\n",
       " 12592,\n",
       " 13674,\n",
       " 13878,\n",
       " 15283,\n",
       " 16417,\n",
       " 17417,\n",
       " 20511,\n",
       " 33800,\n",
       " 34431,\n",
       " 70874]"
      ]
     },
     "execution_count": 19,
     "metadata": {},
     "output_type": "execute_result"
    }
   ],
   "source": [
    "lst"
   ]
  },
  {
   "cell_type": "code",
   "execution_count": 20,
   "metadata": {},
   "outputs": [],
   "source": [
    "targetSize=5000"
   ]
  },
  {
   "cell_type": "code",
   "execution_count": 21,
   "metadata": {},
   "outputs": [
    {
     "name": "stdout",
     "output_type": "stream",
     "text": [
      "COMBAT GAUZE\n",
      "IO LINE\n",
      "WRAP HEAD WOUND\n",
      "KING AIRWAY\n",
      "DRAW MEDICATION\n",
      "IV TOURNIQUET\n",
      "BLOOD-PRESSURE CUFF\n",
      "CPR (COMPRESSION)\n",
      "CPR (BREATH)\n",
      "COMBAT TOURNIQUET\n",
      "INTUBATION\n",
      "PULSE-OX\n",
      "ECG LEADS\n",
      "IM ADMINISTRATION\n",
      "IV LINE\n",
      "VITAL CHECKING\n",
      "BAGGING\n",
      "ADMINISTER MEDICATION\n",
      "CHEST-TUBE\n",
      "SUTURING\n",
      "SPLINTING\n",
      "SWAB AREA WITH ALCOHOL\n",
      "ORAL AIRWAY\n",
      "CHEST-TUBE PREP\n"
     ]
    }
   ],
   "source": [
    "newDirName='NewResizedTriSubj900'\n",
    "oldDirName='NewResizedTriSubj'\n",
    "longPath='/home/livelab/Desktop'\n",
    "cmd='mkdir {}'\n",
    "lncmd=\"ln -sf {} {}\"\n",
    "pathToTraining=os.path.join(longPath,oldDirName,'Training')\n",
    "pathToNewTraining=os.path.join(longPath,newDirName, 'Training')\n",
    "makedir(os.path.join(longPath,newDirName))\n",
    "makedir(pathToNewTraining)\n",
    "cateList = os.listdir(pathToTraining)\n",
    "thCount=multiprocessing.cpu_count()\n",
    "pool = multiprocessing.Pool(thCount-2)\n",
    "partial_randSelectEl=partial(randSelectEl, cateLst=cateList)\n",
    "N = len(cateList)\n",
    "_=pool.map(partial_randSelectEl,range(N))\n",
    "pool.close()\n",
    "pool.join()"
   ]
  },
  {
   "cell_type": "code",
   "execution_count": 5,
   "metadata": {},
   "outputs": [],
   "source": [
    "cateLst = os.listdir(pathToTraining)"
   ]
  },
  {
   "cell_type": "code",
   "execution_count": 9,
   "metadata": {},
   "outputs": [],
   "source": [
    "def randSelectEl(ID, cateLst):\n",
    "    #create folder\n",
    "    print(cateLst[ID])\n",
    "    pathToCate=os.path.join(pathToTraining,cateLst[ID])\n",
    "    pathToCateDir=os.path.join(pathToTraining,'\"'+cateLst[ID]+'\"')\n",
    "    makedir(os.path.join(pathToNewTraining,'\"'+cateLst[ID]+'\"'))\n",
    "    listOfEle=os.listdir(pathToCate)\n",
    "    \n",
    "    lengthOfList=len(listOfEle)\n",
    "    #print(lengthOfList)\n",
    "    if(lengthOfList>targetSize):\n",
    "        #print(lengthOfList,targetSize)\n",
    "        for ele in listOfEle:\n",
    "            randInt=random.randint(0,lengthOfList)\n",
    "            if(randInt<targetSize):\n",
    "                #print( os.path.join(pathToCateDir, ele))\n",
    "                os.system(lncmd.format( os.path.join(pathToCateDir, ele), \n",
    "                           os.path.join(pathToNewTraining, '\"'+cateLst[ID]+'\"', ele)))\n",
    "    else:\n",
    "        if(lengthOfList<targetSize/2):\n",
    "            \n",
    "            #print(False)\n",
    "            for ele in listOfEle:\n",
    "                #print( os.path.join(pathToCateDir, ele))\n",
    "                os.system(lncmd.format( os.path.join(pathToCateDir, ele), \n",
    "                               os.path.join(pathToNewTraining, '\"'+cateLst[ID]+'\"', ele)))\n",
    "                os.system(lncmd.format( os.path.join(pathToCateDir, ele), \n",
    "                               os.path.join(pathToNewTraining, '\"'+cateLst[ID]+'\"', 'D'+ele)))\n",
    "        else:\n",
    "            for ele in listOfEle:\n",
    "                #print( os.path.join(pathToCateDir, ele))\n",
    "                randInt=random.randint(0,lengthOfList*2)\n",
    "                if(randInt<targetSize):\n",
    "                    os.system(lncmd.format( os.path.join(pathToCateDir, ele), \n",
    "                               os.path.join(pathToNewTraining, '\"'+cateLst[ID]+'\"', ele)))\n",
    "                randInt=random.randint(0,lengthOfList*2)\n",
    "                if(randInt<targetSize):\n",
    "                    os.system(lncmd.format( os.path.join(pathToCateDir, ele), \n",
    "                               os.path.join(pathToNewTraining, '\"'+cateLst[ID]+'\"', 'D'+ele)))\n",
    "        "
   ]
  },
  {
   "cell_type": "code",
   "execution_count": 11,
   "metadata": {},
   "outputs": [
    {
     "name": "stdout",
     "output_type": "stream",
     "text": [
      "Processing  Training with target size =  8000\n",
      "DRAW MEDICATION\n",
      "CHEST-TUBE PREP\n",
      "CPR (COMPRESSION)\n",
      "COMBAT TOURNIQUET\n",
      "ECG LEADS\n",
      "INTUBATION\n",
      "PULSE-OX\n",
      "SUTURING\n",
      "SWAB AREA WITH ALCOHOL\n",
      "WRAP HEAD WOUND\n",
      "IV TOURNIQUET\n",
      "SPLINTING\n",
      "IV LINE\n",
      "IO LINE\n",
      "KING AIRWAY\n",
      "CHEST-TUBE\n",
      "VITAL CHECKING\n",
      "ADMINISTER MEDICATION\n",
      "IM ADMINISTRATION\n",
      "BAGGING\n",
      "ORAL AIRWAY\n",
      "BLOOD-PRESSURE CUFF\n",
      "COMBAT GAUZE\n",
      "Processing  Test with target size =  2500\n",
      "CPR (COMPRESSION)\n",
      "INTUBATION\n",
      "PULSE-OX\n",
      "CHEST-TUBE PREP\n",
      "SUTURING\n",
      "ECG LEADS\n",
      "COMBAT TOURNIQUET\n",
      "SWAB AREA WITH ALCOHOL\n",
      "DRAW MEDICATION\n",
      "WRAP HEAD WOUND\n",
      "IV TOURNIQUET\n",
      "SPLINTING\n",
      "IV LINE\n",
      "IO LINE\n",
      "KING AIRWAY\n",
      "CHEST-TUBE\n",
      "VITAL CHECKING\n",
      "ADMINISTER MEDICATION\n",
      "IM ADMINISTRATION\n",
      "BAGGING\n",
      "ORAL AIRWAY\n",
      "BLOOD-PRESSURE CUFF\n",
      "COMBAT GAUZE\n",
      "Processing  Validation with target size =  2500\n",
      "DRAW MEDICATION\n",
      "CPR (COMPRESSION)\n",
      "CHEST-TUBE PREP\n",
      "SUTURING\n",
      "INTUBATION\n",
      "PULSE-OX\n",
      "COMBAT TOURNIQUET\n",
      "ECG LEADS\n",
      "SWAB AREA WITH ALCOHOL\n",
      "WRAP HEAD WOUND\n",
      "IV TOURNIQUET\n",
      "SPLINTING\n",
      "IV LINE\n",
      "IO LINE\n",
      "KING AIRWAY\n",
      "CHEST-TUBE\n",
      "VITAL CHECKING\n",
      "ADMINISTER MEDICATION\n",
      "IM ADMINISTRATION\n",
      "BAGGING\n",
      "ORAL AIRWAY\n",
      "BLOOD-PRESSURE CUFF\n",
      "COMBAT GAUZE\n"
     ]
    }
   ],
   "source": [
    "targetSizeTraining=8000\n",
    "targetSizeTestVal=2500\n",
    "newDirName='NewResized23Balanced'\n",
    "oldDirName='NewResized23'\n",
    "longPath='/media/livelab/DataStorage/Fold5'\n",
    "cmd='mkdir {}'\n",
    "lncmd=\"ln -sf {} {}\"\n",
    "listOfFolders=['Training', 'Test', 'Validation']\n",
    "for name in listOfFolders:\n",
    "    if name == 'Training':\n",
    "        targetSize=targetSizeTraining\n",
    "    else:\n",
    "        targetSize=targetSizeTestVal\n",
    "    print('Processing ', name, 'with target size = ', targetSize)\n",
    "    pathToTraining=os.path.join(longPath,oldDirName, name)\n",
    "    pathToNewTraining=os.path.join(longPath,newDirName, name)\n",
    "    makedir(os.path.join(longPath,newDirName))\n",
    "    makedir(pathToNewTraining)\n",
    "    cateList = os.listdir(pathToTraining)\n",
    "    thCount=multiprocessing.cpu_count()\n",
    "    pool = multiprocessing.Pool(thCount-4)\n",
    "    partial_randSelectEl=partial(randSelectEl, cateLst=cateList)\n",
    "    N = len(cateList)\n",
    "    _=pool.map(partial_randSelectEl,range(N))\n",
    "    pool.close()\n",
    "    pool.join()"
   ]
  },
  {
   "cell_type": "code",
   "execution_count": null,
   "metadata": {},
   "outputs": [],
   "source": []
  }
 ],
 "metadata": {
  "kernelspec": {
   "display_name": "Python 3",
   "language": "python",
   "name": "python3"
  },
  "language_info": {
   "codemirror_mode": {
    "name": "ipython",
    "version": 3
   },
   "file_extension": ".py",
   "mimetype": "text/x-python",
   "name": "python",
   "nbconvert_exporter": "python",
   "pygments_lexer": "ipython3",
   "version": "3.7.3"
  }
 },
 "nbformat": 4,
 "nbformat_minor": 2
}
