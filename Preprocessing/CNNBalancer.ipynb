{
 "cells": [
  {
   "cell_type": "code",
   "execution_count": 1,
   "metadata": {},
   "outputs": [],
   "source": [
    "import os\n",
    "import subprocess\n",
    "import multiprocessing \n",
    "import threading\n",
    "import random\n",
    "from functools import partial\n",
    "from PIL import Image"
   ]
  },
  {
   "cell_type": "code",
   "execution_count": 5,
   "metadata": {},
   "outputs": [],
   "source": [
    "def makedir(dirName):\n",
    "    cmd=\"mkdir {}\"\n",
    "    os.system(cmd.format( dirName))"
   ]
  },
  {
   "cell_type": "code",
   "execution_count": 46,
   "metadata": {},
   "outputs": [],
   "source": [
    "def statData(pathToFolder):\n",
    "    \"\"\"\n",
    "    pathToFolder: one of TTV, under which are category folders\n",
    "    \"\"\"\n",
    "    cateLst=os.listdir(pathToFolder)\n",
    "    lengthLst=[]\n",
    "    for cate in cateLst:\n",
    "        pathToCate=os.path.join(pathToFolder,cate)\n",
    "        lengthLst.append(len(os.listdir(pathToCate)))\n",
    "    return lengthLst"
   ]
  },
  {
   "cell_type": "code",
   "execution_count": 57,
   "metadata": {},
   "outputs": [],
   "source": [
    "lst=statData('/home/livelab/Desktop/NewResizedBalanced/Training')"
   ]
  },
  {
   "cell_type": "code",
   "execution_count": 58,
   "metadata": {},
   "outputs": [],
   "source": [
    "lst.sort()"
   ]
  },
  {
   "cell_type": "code",
   "execution_count": 59,
   "metadata": {
    "scrolled": true
   },
   "outputs": [
    {
     "data": {
      "text/plain": [
       "[4378,\n",
       " 4874,\n",
       " 6593,\n",
       " 9733,\n",
       " 11750,\n",
       " 11757,\n",
       " 11778,\n",
       " 11781,\n",
       " 11785,\n",
       " 11797,\n",
       " 11801,\n",
       " 11804,\n",
       " 11810,\n",
       " 11812,\n",
       " 11819,\n",
       " 11840,\n",
       " 11845,\n",
       " 11852,\n",
       " 11869,\n",
       " 11884,\n",
       " 11894,\n",
       " 11897,\n",
       " 11921,\n",
       " 11984]"
      ]
     },
     "execution_count": 59,
     "metadata": {},
     "output_type": "execute_result"
    }
   ],
   "source": [
    "lst"
   ]
  },
  {
   "cell_type": "code",
   "execution_count": 49,
   "metadata": {},
   "outputs": [],
   "source": [
    "targetSize=lst[5]"
   ]
  },
  {
   "cell_type": "code",
   "execution_count": 52,
   "metadata": {},
   "outputs": [
    {
     "name": "stdout",
     "output_type": "stream",
     "text": [
      "COMBAT GAUZE\n",
      "CPR (COMPRESSION)\n",
      "WRAP HEAD WOUND\n",
      "BLOOD-PRESSURE CUFF\n",
      "KING AIRWAY\n",
      "IO LINE\n",
      "IV TOURNIQUET\n",
      "CPR (BREATH)\n",
      "DRAW MEDICATION\n",
      "COMBAT TOURNIQUET\n",
      "INTUBATION\n",
      "PULSE-OX\n",
      "ECG LEADS\n",
      "IM ADMINISTRATION\n",
      "IV LINE\n",
      "VITAL CHECKING\n",
      "BAGGING\n",
      "ADMINISTER MEDICATION\n",
      "CHEST-TUBE\n",
      "SUTURING\n",
      "SPLINTING\n",
      "SWAB AREA WITH ALCOHOL\n",
      "ORAL AIRWAY\n",
      "CHEST-TUBE PREP\n"
     ]
    }
   ],
   "source": [
    "newDirName='NewResizedBalanced'\n",
    "oldDirName='NewResized'\n",
    "longPath='/home/livelab/Desktop'\n",
    "cmd='mkdir {}'\n",
    "lncmd=\"ln -sf {} {}\"\n",
    "pathToTraining=os.path.join(longPath,oldDirName,'Training')\n",
    "pathToNewTraining=os.path.join(longPath,newDirName, 'Training')\n",
    "makedir(os.path.join(longPath,newDirName))\n",
    "makedir(pathToNewTraining)\n",
    "cateList = os.listdir(pathToTraining)\n",
    "thCount=multiprocessing.cpu_count()\n",
    "pool = multiprocessing.Pool(thCount-2)\n",
    "partial_randSelectEl=partial(randSelectEl, cateLst=cateList)\n",
    "N = len(cateList)\n",
    "_=pool.map(partial_randSelectEl,range(N))\n",
    "pool.close()\n",
    "pool.join()"
   ]
  },
  {
   "cell_type": "code",
   "execution_count": 29,
   "metadata": {},
   "outputs": [],
   "source": [
    "cateLst = os.listdir(pathToTraining)"
   ]
  },
  {
   "cell_type": "code",
   "execution_count": 51,
   "metadata": {},
   "outputs": [],
   "source": [
    "def randSelectEl(ID, cateLst):\n",
    "    #create folder\n",
    "    print(cateLst[ID])\n",
    "    pathToCate=os.path.join(pathToTraining,cateLst[ID])\n",
    "    pathToCateDir=os.path.join(pathToTraining,'\"'+cateLst[ID]+'\"')\n",
    "    makedir(os.path.join(pathToNewTraining,'\"'+cateLst[ID]+'\"'))\n",
    "    listOfEle=os.listdir(pathToCate)\n",
    "    \n",
    "    lengthOfList=len(listOfEle)\n",
    "    #print(lengthOfList)\n",
    "    if(lengthOfList>targetSize):\n",
    "        #print(lengthOfList,targetSize)\n",
    "        for ele in listOfEle:\n",
    "            randInt=random.randint(0,lengthOfList)\n",
    "            if(randInt<targetSize):\n",
    "                #print( os.path.join(pathToCateDir, ele))\n",
    "                os.system(lncmd.format( os.path.join(pathToCateDir, ele), \n",
    "                           os.path.join(pathToNewTraining, '\"'+cateLst[ID]+'\"', ele)))\n",
    "    else:\n",
    "        #print(False)\n",
    "        for ele in listOfEle:\n",
    "            #print( os.path.join(pathToCateDir, ele))\n",
    "            os.system(lncmd.format( os.path.join(pathToCateDir, ele), \n",
    "                           os.path.join(pathToNewTraining, '\"'+cateLst[ID]+'\"', ele)))"
   ]
  },
  {
   "cell_type": "code",
   "execution_count": 42,
   "metadata": {},
   "outputs": [
    {
     "data": {
      "text/plain": [
       "90"
      ]
     },
     "execution_count": 42,
     "metadata": {},
     "output_type": "execute_result"
    }
   ],
   "source": [
    "random.randint(0,100)"
   ]
  },
  {
   "cell_type": "code",
   "execution_count": 53,
   "metadata": {},
   "outputs": [
    {
     "data": {
      "text/plain": [
       "11852"
      ]
     },
     "execution_count": 53,
     "metadata": {},
     "output_type": "execute_result"
    }
   ],
   "source": [
    "targetSize"
   ]
  },
  {
   "cell_type": "code",
   "execution_count": null,
   "metadata": {},
   "outputs": [],
   "source": []
  }
 ],
 "metadata": {
  "kernelspec": {
   "display_name": "Python 3",
   "language": "python",
   "name": "python3"
  },
  "language_info": {
   "codemirror_mode": {
    "name": "ipython",
    "version": 3
   },
   "file_extension": ".py",
   "mimetype": "text/x-python",
   "name": "python",
   "nbconvert_exporter": "python",
   "pygments_lexer": "ipython3",
   "version": "3.7.3"
  }
 },
 "nbformat": 4,
 "nbformat_minor": 2
}
