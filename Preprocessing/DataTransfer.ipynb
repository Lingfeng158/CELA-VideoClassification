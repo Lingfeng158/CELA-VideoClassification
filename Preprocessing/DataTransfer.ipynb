{
 "cells": [
  {
   "cell_type": "code",
   "execution_count": 1,
   "metadata": {},
   "outputs": [],
   "source": [
    "#This file is used to for creating links for data\n",
    "#for the purpose of multi-fold cross validation"
   ]
  },
  {
   "cell_type": "code",
   "execution_count": 2,
   "metadata": {},
   "outputs": [],
   "source": [
    "import os\n",
    "import subprocess\n",
    "import multiprocessing \n",
    "import threading\n",
    "import random\n",
    "from functools import partial\n",
    "from PIL import Image"
   ]
  },
  {
   "cell_type": "code",
   "execution_count": 3,
   "metadata": {},
   "outputs": [],
   "source": [
    "def makedir(dirName):\n",
    "    cmd=\"mkdir {}\"\n",
    "    os.system(cmd.format( dirName))"
   ]
  },
  {
   "cell_type": "code",
   "execution_count": 4,
   "metadata": {},
   "outputs": [],
   "source": [
    "def statData(pathToFolder):\n",
    "    \"\"\"\n",
    "    pathToFolder: one of TTV, under which are category folders\n",
    "    \"\"\"\n",
    "    cateLst=os.listdir(pathToFolder)\n",
    "    lengthLst=[]\n",
    "    for cate in cateLst:\n",
    "        pathToCate=os.path.join(pathToFolder,cate)\n",
    "        lengthLst.append(len(os.listdir(pathToCate)))\n",
    "    return lengthLst"
   ]
  },
  {
   "cell_type": "code",
   "execution_count": 5,
   "metadata": {},
   "outputs": [],
   "source": [
    "def randSelectEl(ID, cateLst):\n",
    "    #create folder\n",
    "    print(cateLst[ID])\n",
    "    pathToCate=os.path.join(pathToTraining,cateLst[ID])\n",
    "    pathToCateDir=os.path.join(pathToTraining,'\"'+cateLst[ID]+'\"')\n",
    "    makedir(os.path.join(pathToNewTraining,'\"'+cateLst[ID]+'\"'))\n",
    "    listOfEle=os.listdir(pathToCate)\n",
    "    for ele in listOfEle:\n",
    "        #print( os.path.join(pathToCateDir, ele))\n",
    "        os.system(lncmd.format( os.path.join(pathToCateDir, ele), \n",
    "            os.path.join(pathToNewTraining, '\"'+cateLst[ID]+'\"', ele)))\n",
    "        "
   ]
  },
  {
   "cell_type": "code",
   "execution_count": 6,
   "metadata": {
    "scrolled": true
   },
   "outputs": [
    {
     "name": "stdout",
     "output_type": "stream",
     "text": [
      "Processing  Training\n",
      "BLOOD-PRESSURE CUFF\n",
      "KING AIRWAY\n",
      "IV TOURNIQUET\n",
      "IO LINE\n",
      "CPR (COMPRESSION)\n",
      "WRAP HEAD WOUND\n",
      "COMBAT GAUZE\n",
      "CPR (BREATH)\n",
      "COMBAT TOURNIQUET\n",
      "DRAW MEDICATION\n",
      "INTUBATION\n",
      "PULSE-OX\n",
      "ECG LEADS\n",
      "IM ADMINISTRATION\n",
      "IV LINE\n",
      "VITAL CHECKING\n",
      "BAGGING\n",
      "ADMINISTER MEDICATION\n",
      "CHEST-TUBE\n",
      "SUTURING\n",
      "SPLINTING\n",
      "SWAB AREA WITH ALCOHOL\n",
      "ORAL AIRWAY\n",
      "CHEST-TUBE PREP\n",
      "Processing  Test\n",
      "WRAP HEAD WOUND\n",
      "CPR (COMPRESSION)\n",
      "BLOOD-PRESSURE CUFF\n",
      "COMBAT GAUZE\n",
      "IO LINE\n",
      "IV TOURNIQUET\n",
      "COMBAT TOURNIQUET\n",
      "KING AIRWAY\n",
      "DRAW MEDICATION\n",
      "PULSE-OX\n",
      "INTUBATION\n",
      "CPR (BREATH)\n",
      "ECG LEADS\n",
      "IM ADMINISTRATION\n",
      "IV LINE\n",
      "VITAL CHECKING\n",
      "BAGGING\n",
      "ADMINISTER MEDICATION\n",
      "CHEST-TUBE\n",
      "SUTURING\n",
      "SPLINTING\n",
      "SWAB AREA WITH ALCOHOL\n",
      "ORAL AIRWAY\n",
      "CHEST-TUBE PREP\n",
      "Processing  Validation\n",
      "KING AIRWAY\n",
      "IV TOURNIQUET\n",
      "COMBAT GAUZE\n",
      "WRAP HEAD WOUND\n",
      "CPR (COMPRESSION)\n",
      "IO LINE\n",
      "COMBAT TOURNIQUET\n",
      "CPR (BREATH)\n",
      "BLOOD-PRESSURE CUFF\n",
      "DRAW MEDICATION\n",
      "INTUBATION\n",
      "PULSE-OX\n",
      "ECG LEADS\n",
      "IM ADMINISTRATION\n",
      "IV LINE\n",
      "VITAL CHECKING\n",
      "BAGGING\n",
      "ADMINISTER MEDICATION\n",
      "CHEST-TUBE\n",
      "SUTURING\n",
      "SPLINTING\n",
      "SWAB AREA WITH ALCOHOL\n",
      "ORAL AIRWAY\n",
      "CHEST-TUBE PREP\n"
     ]
    }
   ],
   "source": [
    "DirName='NewResized'\n",
    "oldlongPath='/home/livelab/Desktop/Fold3'\n",
    "newlongPath='/media/livelab/DataStorage/Fold5'\n",
    "cmd='mkdir {}'\n",
    "lncmd=\"ln -sf {} {}\"\n",
    "listOfFolders=['Training', 'Test', 'Validation']\n",
    "for name in listOfFolders:\n",
    "    print('Processing ', name)\n",
    "    pathToTraining=os.path.join(oldlongPath,DirName, name)\n",
    "    pathToNewTraining=os.path.join(newlongPath,DirName, name)\n",
    "    makedir(os.path.join(newlongPath,DirName))\n",
    "    makedir(pathToNewTraining)\n",
    "    cateList = os.listdir(pathToTraining)\n",
    "    thCount=multiprocessing.cpu_count()\n",
    "    pool = multiprocessing.Pool(thCount)\n",
    "    partial_randSelectEl=partial(randSelectEl, cateLst=cateList)\n",
    "    N = len(cateList)\n",
    "    _=pool.map(partial_randSelectEl,range(N))\n",
    "    pool.close()\n",
    "    pool.join()"
   ]
  },
  {
   "cell_type": "code",
   "execution_count": null,
   "metadata": {},
   "outputs": [],
   "source": []
  }
 ],
 "metadata": {
  "kernelspec": {
   "display_name": "Python 3",
   "language": "python",
   "name": "python3"
  },
  "language_info": {
   "codemirror_mode": {
    "name": "ipython",
    "version": 3
   },
   "file_extension": ".py",
   "mimetype": "text/x-python",
   "name": "python",
   "nbconvert_exporter": "python",
   "pygments_lexer": "ipython3",
   "version": "3.7.3"
  }
 },
 "nbformat": 4,
 "nbformat_minor": 2
}
