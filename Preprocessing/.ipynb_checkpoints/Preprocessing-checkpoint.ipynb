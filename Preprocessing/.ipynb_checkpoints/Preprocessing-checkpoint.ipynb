{
 "cells": [
  {
   "cell_type": "code",
   "execution_count": 88,
   "metadata": {},
   "outputs": [],
   "source": [
    "import os\n",
    "import random\n",
    "import numpy as np\n",
    "from sklearn.preprocessing import OneHotEncoder\n",
    "from sklearn.preprocessing import LabelEncoder\n",
    "from functools import partial"
   ]
  },
  {
   "cell_type": "code",
   "execution_count": 41,
   "metadata": {},
   "outputs": [],
   "source": [
    "def altPathJoin(path2, path1):\n",
    "    return os.path.join(path1, path2)"
   ]
  },
  {
   "cell_type": "code",
   "execution_count": 75,
   "metadata": {},
   "outputs": [],
   "source": [
    "def prepdata(path):\n",
    "    labelList=[]\n",
    "    dataList=[]\n",
    "    #get one-hot label for categories\n",
    "    labelLst=os.listdir(path)\n",
    "    if '.DS_Store' in labelLst:\n",
    "        labelLst.remove('.DS_Store')\n",
    "    labelLst.sort()\n",
    "    np_label=np.array(labelLst)\n",
    "    label_encoder = LabelEncoder()\n",
    "    integer_encoded = label_encoder.fit_transform(np_label)\n",
    "    onehot_encoder = OneHotEncoder(sparse=False)\n",
    "    integer_encoded = integer_encoded.reshape(len(integer_encoded), 1)\n",
    "    onehot_encoded = onehot_encoder.fit_transform(integer_encoded)\n",
    "    \n",
    "    #setup counter to distinguish categories\n",
    "    iter=0\n",
    "    for category in labelLst:\n",
    "        subDir=os.path.join(path, category)\n",
    "        #currently in subject folders\n",
    "        subjects=os.listdir(subDir)\n",
    "        if '.DS_Store' in subjects:\n",
    "            subjects.remove('.DS_Store')\n",
    "        for subject in subjects:\n",
    "            subsubDir=os.path.join(subDir, subject)\n",
    "            clips=os.listdir(subsubDir)\n",
    "            if '.DS_Store' in clips:\n",
    "                clips.remove('.DS_Store')\n",
    "            for clip in clips:\n",
    "                #currently in clip folder, with all frame data\n",
    "                frameData=np.array(os.listdir(os.path.join(subsubDir, clip)))\n",
    "                data_length=len(frameData)\n",
    "                if '.DS_Store' in frameData:\n",
    "                    frameData.remove('.DS_Store')\n",
    "                frameData.sort()\n",
    "                ###############################################################\n",
    "                #for data_length>200, randomly select a segment of 200 frames #\n",
    "                ###############################################################\n",
    "                if(data_length>200):\n",
    "                    rangeOfData=data_length-200\n",
    "                    startOfSegment=random.randint(0,rangeOfData-1)\n",
    "                    frameData=frameData[startOfSegment:startOfSegment+200]\n",
    "                pathToClip=altPathJoin(clip,subsubDir)\n",
    "                partialAPJ=partial(altPathJoin, path1=pathToClip)\n",
    "                fullPathFrameData=map(partialAPJ,frameData)\n",
    "                labelList.append(onehot_encoded[iter])\n",
    "                dataList.append(list(fullPathFrameData))\n",
    "                #dataList.append(frameData)\n",
    "        iter+=1\n",
    "    return labelList, dataList"
   ]
  },
  {
   "cell_type": "code",
   "execution_count": 81,
   "metadata": {},
   "outputs": [
    {
     "name": "stderr",
     "output_type": "stream",
     "text": [
      "/Users/lingfengli/anaconda3/lib/python3.7/site-packages/sklearn/preprocessing/_encoders.py:415: FutureWarning: The handling of integer data will change in version 0.22. Currently, the categories are determined based on the range [0, max(values)], while in the future they will be determined based on the unique values.\n",
      "If you want the future behaviour and silence this warning, you can specify \"categories='auto'\".\n",
      "In case you used a LabelEncoder before this OneHotEncoder to convert the categories to integers, then you can now use the OneHotEncoder directly.\n",
      "  warnings.warn(msg, FutureWarning)\n",
      "/Users/lingfengli/anaconda3/lib/python3.7/site-packages/sklearn/preprocessing/_encoders.py:415: FutureWarning: The handling of integer data will change in version 0.22. Currently, the categories are determined based on the range [0, max(values)], while in the future they will be determined based on the unique values.\n",
      "If you want the future behaviour and silence this warning, you can specify \"categories='auto'\".\n",
      "In case you used a LabelEncoder before this OneHotEncoder to convert the categories to integers, then you can now use the OneHotEncoder directly.\n",
      "  warnings.warn(msg, FutureWarning)\n",
      "/Users/lingfengli/anaconda3/lib/python3.7/site-packages/sklearn/preprocessing/_encoders.py:415: FutureWarning: The handling of integer data will change in version 0.22. Currently, the categories are determined based on the range [0, max(values)], while in the future they will be determined based on the unique values.\n",
      "If you want the future behaviour and silence this warning, you can specify \"categories='auto'\".\n",
      "In case you used a LabelEncoder before this OneHotEncoder to convert the categories to integers, then you can now use the OneHotEncoder directly.\n",
      "  warnings.warn(msg, FutureWarning)\n"
     ]
    }
   ],
   "source": [
    "testPath='/Users/lingfengli/Desktop/SIR/CRNN/ResizeBinnedToClips6F/Test'\n",
    "trainPath='/Users/lingfengli/Desktop/SIR/CRNN/ResizeBinnedToClips6F/Training'\n",
    "validPath='/Users/lingfengli/Desktop/SIR/CRNN/ResizeBinnedToClips6F/Validation'\n",
    "testl,testd=prepdata(testPath)\n",
    "trainl,traind=prepdata(trainPath)\n",
    "validl,validd=prepdata(validPath)\n",
    "#print(label.shape)"
   ]
  },
  {
   "cell_type": "code",
   "execution_count": 85,
   "metadata": {},
   "outputs": [
    {
     "data": {
      "text/plain": [
       "38"
      ]
     },
     "execution_count": 85,
     "metadata": {},
     "output_type": "execute_result"
    }
   ],
   "source": [
    "len(validl)"
   ]
  },
  {
   "cell_type": "code",
   "execution_count": 87,
   "metadata": {},
   "outputs": [
    {
     "data": {
      "text/plain": [
       "124"
      ]
     },
     "execution_count": 87,
     "metadata": {},
     "output_type": "execute_result"
    }
   ],
   "source": [
    "len(testd)"
   ]
  }
 ],
 "metadata": {
  "kernelspec": {
   "display_name": "Python 3",
   "language": "python",
   "name": "python3"
  },
  "language_info": {
   "codemirror_mode": {
    "name": "ipython",
    "version": 3
   },
   "file_extension": ".py",
   "mimetype": "text/x-python",
   "name": "python",
   "nbconvert_exporter": "python",
   "pygments_lexer": "ipython3",
   "version": "3.7.4"
  }
 },
 "nbformat": 4,
 "nbformat_minor": 2
}
