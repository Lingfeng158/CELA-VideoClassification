{
 "cells": [
  {
   "cell_type": "code",
   "execution_count": 2,
   "metadata": {},
   "outputs": [],
   "source": [
    "import os\n",
    "import random\n",
    "import numpy as np\n",
    "from PIL import Image\n",
    "from sklearn.preprocessing import OneHotEncoder\n",
    "from sklearn.preprocessing import LabelEncoder\n",
    "import multiprocessing \n",
    "import threading\n",
    "from functools import partial\n",
    "import random"
   ]
  },
  {
   "cell_type": "code",
   "execution_count": 148,
   "metadata": {},
   "outputs": [],
   "source": [
    "def altPathJoin(path2, path1):\n",
    "    return os.path.join(path1, path2)"
   ]
  },
  {
   "cell_type": "code",
   "execution_count": 75,
   "metadata": {},
   "outputs": [],
   "source": [
    "def prepdata(path):\n",
    "    \"\"\"\n",
    "    Can be run multiple times to get different data\n",
    "    return zipped [list_of_label, list_of_path_to_data]\n",
    "    \"\"\"\n",
    "    labelList=[]\n",
    "    dataList=[]\n",
    "    #define the sample count for each category\n",
    "    #to balance data\n",
    "    categoryLength=45\n",
    "    #get one-hot label for categories\n",
    "    labelLst=os.listdir(path)\n",
    "    if '.DS_Store' in labelLst:\n",
    "        labelLst.remove('.DS_Store')\n",
    "    labelLst.sort()\n",
    "    np_label=np.array(labelLst)\n",
    "    label_encoder = LabelEncoder()\n",
    "    integer_encoded = label_encoder.fit_transform(np_label)\n",
    "    onehot_encoder = OneHotEncoder(sparse=False)\n",
    "    integer_encoded = integer_encoded.reshape(len(integer_encoded), 1)\n",
    "    onehot_encoded = onehot_encoder.fit_transform(integer_encoded)\n",
    "    \n",
    "    #setup counter to distinguish categories\n",
    "    iter=0\n",
    "    for category in labelLst:\n",
    "        categoryLable=[]\n",
    "        categoryData=[]\n",
    "        subDir=os.path.join(path, category)\n",
    "        #currently in subject folders\n",
    "        subjects=os.listdir(subDir)\n",
    "        if '.DS_Store' in subjects:\n",
    "            subjects.remove('.DS_Store')\n",
    "        for subject in subjects:\n",
    "            subsubDir=os.path.join(subDir, subject)\n",
    "            clips=os.listdir(subsubDir)\n",
    "            if '.DS_Store' in clips:\n",
    "                clips.remove('.DS_Store')\n",
    "            for clip in clips:\n",
    "                #currently in clip folder, with all frame data\n",
    "                frameData=np.array(os.listdir(os.path.join(subsubDir, clip)))\n",
    "                data_length=len(frameData)\n",
    "                if '.DS_Store' in frameData:\n",
    "                    frameData.remove('.DS_Store')\n",
    "                frameData.sort()\n",
    "                ###############################################################\n",
    "                #for data_length>200, randomly select a segment of 200 frames #\n",
    "                ###############################################################\n",
    "                if(data_length>200):\n",
    "                    rangeOfData=data_length-200\n",
    "                    startOfSegment=random.randint(0,rangeOfData-1)\n",
    "                    frameData=frameData[startOfSegment:startOfSegment+200]\n",
    "                pathToClip=altPathJoin(clip,subsubDir)\n",
    "                partialAPJ=partial(altPathJoin, path1=pathToClip)\n",
    "                fullPathFrameData=map(partialAPJ,frameData)\n",
    "                categoryData.append(onehot_encoded[iter])\n",
    "                categoryLable.append(list(fullPathFrameData))\n",
    "                #dataList.append(frameData)\n",
    "        if(len(categoryLable)<=categoryLength):\n",
    "            labelList=labelList+categoryLable\n",
    "            dataList=dataList+categoryData\n",
    "        else:\n",
    "            for i in range(len(categoryLable)):\n",
    "                randInt=random.randint(0,len(categoryLable)-1)\n",
    "                if(randInt<categoryLength):\n",
    "                    labelList.append(categoryLable[i])\n",
    "                    dataList.append(categoryData[i])\n",
    "        iter+=1\n",
    "    return list(zip(labelList, dataList))"
   ]
  },
  {
   "cell_type": "code",
   "execution_count": 18,
   "metadata": {},
   "outputs": [
    {
     "data": {
      "text/plain": [
       "0"
      ]
     },
     "execution_count": 18,
     "metadata": {},
     "output_type": "execute_result"
    }
   ],
   "source": [
    "random.randint(0,1)"
   ]
  },
  {
   "cell_type": "code",
   "execution_count": 149,
   "metadata": {},
   "outputs": [],
   "source": [
    "def makedir(dirName):\n",
    "    cmd=\"mkdir {}\"\n",
    "    os.system(cmd.format( dirName))"
   ]
  },
  {
   "cell_type": "code",
   "execution_count": 137,
   "metadata": {},
   "outputs": [],
   "source": [
    "def imageListLoader(fileList):\n",
    "    \"\"\"\n",
    "    Data loader for image files, load data given one clip's file list\n",
    "    Handle data augmentation/flipping\n",
    "    \"\"\"\n",
    "    fileList.sort()\n",
    "    randInt=random.randint(0,1)\n",
    "    invertData=False\n",
    "    if (randInt==1):\n",
    "        invertData=True\n",
    "    resultList=[]\n",
    "    for file in fileList:\n",
    "        img=Image.open(file, 'r')\n",
    "        if(invertData):\n",
    "            img=img.transpose(Image.FLIP_LEFT_RIGHT)\n",
    "        img=np.array(img)\n",
    "        img=(img/255-1)*2\n",
    "        #img=img.reshape(1,244,244,3)\n",
    "        resultList.append(img)\n",
    "    return resultList"
   ]
  },
  {
   "cell_type": "code",
   "execution_count": 138,
   "metadata": {},
   "outputs": [],
   "source": [
    "def npyListLoader(fileList):\n",
    "    \"\"\"\n",
    "    Data loader for npy files, load data given one clip's file list\n",
    "    DOES NOT handle data augmentation/flipping\n",
    "    \"\"\"\n",
    "    fileList.sort()\n",
    "    resultList=[]\n",
    "    data=np.load(filename)\n",
    "    resultList.append(data)\n",
    "    return resultList"
   ]
  },
  {
   "cell_type": "code",
   "execution_count": 154,
   "metadata": {},
   "outputs": [],
   "source": [
    "def checkAndGeneratePath(parentPath):\n",
    "    \"\"\"\n",
    "    This function takes in parent path for data, normally three folder should be under the folder:\n",
    "    Test, Training and Validation (TTV)\n",
    "    The function will check all subfolders have same subsubfolders,\n",
    "    and return [subfolderlist]\n",
    "    \"\"\"\n",
    "    folderList=os.listdir(parentPath)\n",
    "    if '.DS_Store' in folderList:\n",
    "        folderList.remove('.DS_Store')\n",
    "    listOfcate=genList(parentPath,folderList)\n",
    "    #snow ball canonical to include all categories appeared in elements of folderLst\n",
    "    canonical=[]\n",
    "    for folder in listOfcate:\n",
    "        canonical=list(set(canonical).union(set(folder)))\n",
    "    for folder in folderList:\n",
    "        \"\"\"\n",
    "        folder = each TTV\n",
    "        \"\"\"\n",
    "        pathToFolder=altPathJoin(folder,parentPath)\n",
    "        itemList=os.listdir(pathToFolder)\n",
    "        if '.DS_Store' in itemList:\n",
    "            itemList.remove('.DS_Store')\n",
    "        #figure out the lacking categories\n",
    "        diff=list(set(canonical)-set(itemList))\n",
    "        for category in diff:\n",
    "            makedir(altPathJoin('\"'+category+'\"',pathToFolder))\n",
    "    #at this point, all folder length should be equal\n",
    "    if(checkEqual(parentPath,folderList)):\n",
    "        print(\"Length Check on Folder Succeed\")\n",
    "    else:\n",
    "        print(\"Error in TTV Folder Length\")"
   ]
  },
  {
   "cell_type": "code",
   "execution_count": 153,
   "metadata": {},
   "outputs": [],
   "source": [
    "def checkEqual(path, listOfFolder):\n",
    "    \"\"\"\n",
    "    Return the position of element with largest value, and if \n",
    "    \"\"\"\n",
    "    listOfLength=[]\n",
    "    for folder in listOfFolder:\n",
    "        pathToFolder=altPathJoin(folder,path)\n",
    "        itemList=os.listdir(pathToFolder)\n",
    "        if '.DS_Store' in itemList:\n",
    "            itemList.remove('.DS_Store')\n",
    "        listOfLength.append(len(itemList))\n",
    "        print(len(itemList))\n",
    "    maxVal=max(listOfLength)\n",
    "    sumVal=sum(listOfLength)\n",
    "    if (sumVal==maxVal*len(listOfLength)):\n",
    "        return True\n",
    "    else:\n",
    "        print('sum: ', sumVal, 'maxVal:', maxVal)\n",
    "        return False"
   ]
  },
  {
   "cell_type": "code",
   "execution_count": 152,
   "metadata": {},
   "outputs": [],
   "source": [
    "def genList(path, listOfFolder):\n",
    "    \"\"\"\n",
    "    Return a list of lists of categories of elements in listOfFolder\n",
    "    \"\"\"\n",
    "    listOfCate=[]\n",
    "    for folder in listOfFolder:\n",
    "        pathToFolder=altPathJoin(folder,path)\n",
    "        itemList=os.listdir(pathToFolder)\n",
    "        if '.DS_Store' in itemList:\n",
    "            itemList.remove('.DS_Store')\n",
    "        listOfCate.append(itemList)\n",
    "    return listOfCate"
   ]
  },
  {
   "cell_type": "code",
   "execution_count": null,
   "metadata": {},
   "outputs": [],
   "source": []
  }
 ],
 "metadata": {
  "kernelspec": {
   "display_name": "Python 3",
   "language": "python",
   "name": "python3"
  },
  "language_info": {
   "codemirror_mode": {
    "name": "ipython",
    "version": 3
   },
   "file_extension": ".py",
   "mimetype": "text/x-python",
   "name": "python",
   "nbconvert_exporter": "python",
   "pygments_lexer": "ipython3",
   "version": "3.7.3"
  }
 },
 "nbformat": 4,
 "nbformat_minor": 2
}
