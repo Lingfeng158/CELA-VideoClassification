{
 "cells": [
  {
   "cell_type": "code",
   "execution_count": 68,
   "metadata": {},
   "outputs": [],
   "source": [
    "import os\n"
   ]
  },
  {
   "cell_type": "code",
   "execution_count": 41,
   "metadata": {},
   "outputs": [
    {
     "data": {
      "text/plain": [
       "0"
      ]
     },
     "execution_count": 41,
     "metadata": {},
     "output_type": "execute_result"
    }
   ],
   "source": [
    "os.system('ls -lah')"
   ]
  },
  {
   "cell_type": "code",
   "execution_count": 74,
   "metadata": {},
   "outputs": [],
   "source": [
    "PathToParentFolder='/media/livelab/Storage'\n",
    "FolderName='VideoDataS7'"
   ]
  },
  {
   "cell_type": "code",
   "execution_count": 75,
   "metadata": {},
   "outputs": [],
   "source": [
    "PathToFolder=os.path.join(PathToParentFolder,FolderName)\n",
    "fileList=os.listdir(PathToFolder)\n",
    "fileList.sort()"
   ]
  },
  {
   "cell_type": "code",
   "execution_count": 76,
   "metadata": {},
   "outputs": [],
   "source": [
    "fileList\n",
    "#append path to fileName\n",
    "for i in range(len(fileList)):\n",
    "    fileList[i] = os.path.join(PathToFolder,fileList[i])"
   ]
  },
  {
   "cell_type": "code",
   "execution_count": 77,
   "metadata": {
    "scrolled": true
   },
   "outputs": [
    {
     "data": {
      "text/plain": [
       "['/media/livelab/Storage/VideoDataS7/GOPR0023.MP4',\n",
       " '/media/livelab/Storage/VideoDataS7/GP010023.MP4',\n",
       " '/media/livelab/Storage/VideoDataS7/GP020023.MP4',\n",
       " '/media/livelab/Storage/VideoDataS7/GP030023.MP4',\n",
       " '/media/livelab/Storage/VideoDataS7/GP040023.MP4',\n",
       " '/media/livelab/Storage/VideoDataS7/GP050023.MP4',\n",
       " '/media/livelab/Storage/VideoDataS7/GP060023.MP4',\n",
       " '/media/livelab/Storage/VideoDataS7/GP070023.MP4',\n",
       " '/media/livelab/Storage/VideoDataS7/GP080023.MP4',\n",
       " '/media/livelab/Storage/VideoDataS7/GP090023.MP4',\n",
       " '/media/livelab/Storage/VideoDataS7/GP100023.MP4',\n",
       " '/media/livelab/Storage/VideoDataS7/GP110023.MP4',\n",
       " '/media/livelab/Storage/VideoDataS7/GP120023.MP4',\n",
       " '/media/livelab/Storage/VideoDataS7/GP130023.MP4',\n",
       " '/media/livelab/Storage/VideoDataS7/GP140023.MP4',\n",
       " '/media/livelab/Storage/VideoDataS7/GP150023.MP4',\n",
       " '/media/livelab/Storage/VideoDataS7/GP160023.MP4',\n",
       " '/media/livelab/Storage/VideoDataS7/GP170023.MP4',\n",
       " '/media/livelab/Storage/VideoDataS7/GP180023.MP4',\n",
       " '/media/livelab/Storage/VideoDataS7/GP190023.MP4',\n",
       " '/media/livelab/Storage/VideoDataS7/GP200023.MP4',\n",
       " '/media/livelab/Storage/VideoDataS7/GP210023.MP4']"
      ]
     },
     "execution_count": 77,
     "metadata": {},
     "output_type": "execute_result"
    }
   ],
   "source": [
    "fileList"
   ]
  },
  {
   "cell_type": "code",
   "execution_count": 78,
   "metadata": {},
   "outputs": [],
   "source": [
    "appender=FolderName[9:]\n",
    "textFileName='fileList{}.txt'\n",
    "outputFileName='output{}.mp4'\n",
    "content='file {}\\n'\n",
    "f = open(textFileName.format(appender), \"w\")\n",
    "for file in fileList:\n",
    "    f.write(content.format(file))\n",
    "f.close()"
   ]
  },
  {
   "cell_type": "code",
   "execution_count": 39,
   "metadata": {},
   "outputs": [
    {
     "data": {
      "text/plain": [
       "2"
      ]
     },
     "execution_count": 39,
     "metadata": {},
     "output_type": "execute_result"
    }
   ],
   "source": [
    "command='ffmpeg -f concat -safe 0 -i {} -c copy {}'\n",
    "os.system(command.format(textFileName.format(appender),outputFileName.format(appender)))"
   ]
  },
  {
   "cell_type": "code",
   "execution_count": 28,
   "metadata": {},
   "outputs": [
    {
     "data": {
      "text/plain": [
       "'fileList.txt'"
      ]
     },
     "execution_count": 28,
     "metadata": {},
     "output_type": "execute_result"
    }
   ],
   "source": [
    "textFileName.format(appender)"
   ]
  },
  {
   "cell_type": "code",
   "execution_count": null,
   "metadata": {},
   "outputs": [],
   "source": []
  }
 ],
 "metadata": {
  "kernelspec": {
   "display_name": "Python 3",
   "language": "python",
   "name": "python3"
  },
  "language_info": {
   "codemirror_mode": {
    "name": "ipython",
    "version": 3
   },
   "file_extension": ".py",
   "mimetype": "text/x-python",
   "name": "python",
   "nbconvert_exporter": "python",
   "pygments_lexer": "ipython3",
   "version": "3.7.3"
  }
 },
 "nbformat": 4,
 "nbformat_minor": 2
}
