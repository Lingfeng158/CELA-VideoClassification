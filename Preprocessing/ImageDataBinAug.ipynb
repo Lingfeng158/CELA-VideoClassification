{
 "cells": [
  {
   "cell_type": "code",
   "execution_count": 1,
   "metadata": {},
   "outputs": [],
   "source": [
    "import os\n",
    "import subprocess\n",
    "import multiprocessing \n",
    "import threading\n",
    "from functools import partial\n",
    "from PIL import Image"
   ]
  },
  {
   "cell_type": "code",
   "execution_count": 2,
   "metadata": {},
   "outputs": [],
   "source": [
    "def makedir(dirName):\n",
    "    cmd=\"mkdir {}\"\n",
    "    os.system(cmd.format( dirName))"
   ]
  },
  {
   "cell_type": "code",
   "execution_count": 3,
   "metadata": {},
   "outputs": [
    {
     "data": {
      "text/plain": [
       "12"
      ]
     },
     "execution_count": 3,
     "metadata": {},
     "output_type": "execute_result"
    }
   ],
   "source": [
    "thCount=multiprocessing.cpu_count()\n",
    "thCount"
   ]
  },
  {
   "cell_type": "code",
   "execution_count": 4,
   "metadata": {},
   "outputs": [],
   "source": [
    "#To further improve efficiency of the code, make the process detachable\n",
    "#to make this function detachable, remove all the use of global variable, i.e. new/oldDirName, folder\n",
    "#possibly by making them input parameters\n",
    "def linkImg(ID, directoryList):\n",
    "    \n",
    "    print(directoryList[ID]+' ')\n",
    "    #create a new subfolder in new directory\n",
    "    makedir(os.path.join(longPath, newDirName, folder, '\"'+directoryList[ID]+'\"'))\n",
    "    #in the subfolder of old directory\n",
    "    fullPath=os.path.join(longPath, oldDirName, folder, directoryList[ID])\n",
    "    elementList=os.listdir(fullPath)\n",
    "    if('.DS_Store' in elementList):\n",
    "        elementList.remove('.DS_Store')\n",
    "    \n",
    "    #the following parameter is prepared seperate clip\n",
    "    #timeMark for labeling frame No\n",
    "    timeMark=''\n",
    "    elementList.sort()\n",
    "    \n",
    "    nameOfClip='clip{}'\n",
    "    seperateClip=True\n",
    "    #for data augmentation\n",
    "    selectResidue=[0]\n",
    "    loopCount=1\n",
    "    lncmd=\"ln -sf {} {}\"\n",
    "    \n",
    "    redoDir=False\n",
    "    #insert code for data augmentation for training only\n",
    "    \n",
    "    if(directoryList[ID] in tinyList and folder == 'Training'):\n",
    "        selectResidue=[0,1,2,3,4]\n",
    "        loopCount=5\n",
    "    elif(directoryList[ID] in smallList and folder == 'Training'):\n",
    "        selectResidue=[0,2,4]\n",
    "        loopCount=3\n",
    "    elif(directoryList[ID] in mediumList and folder == 'Training'):\n",
    "        selectResidue=[0,2]\n",
    "        loopCount=2\n",
    "    for it in range(loopCount):\n",
    "        #iterator for clip naming\n",
    "        iterator=0\n",
    "        timeMark=''\n",
    "        if it==0:\n",
    "            extraLoop=False\n",
    "        else:\n",
    "            extraLoop=True\n",
    "        prevSubkNo=''\n",
    "        for element in elementList:\n",
    "            if(int(element[4:10])%frameGap!=selectResidue[it]):\n",
    "                continue\n",
    "            #check subject number, if doesn't exist, create new subject folder under new directory\n",
    "            subjectNo=element[:2]\n",
    "            if(not os.path.exists(os.path.join(longPath, newDirName, folder, directoryList[ID], subjectNo))):\n",
    "                #print('creating folder')\n",
    "                timeMark='';\n",
    "                iterator=0\n",
    "                makedir(os.path.join(longPath, newDirName, folder, '\"'+directoryList[ID]+'\"', subjectNo))\n",
    "            elif extraLoop==True and prevSubkNo!=subjectNo:\n",
    "                tmpLst=os.listdir(os.path.join(longPath, newDirName, folder, directoryList[ID], subjectNo))\n",
    "                tmpLst.sort()\n",
    "                iterator=int(tmpLst[-1][4:])+1\n",
    "                prevSubkNo=subjectNo\n",
    "                redoDir=True\n",
    "#                 print('iterator: ',iterator)\n",
    "#                 print('curList: ',tmpLst)\n",
    "#                 print('subjNo', subjectNo)\n",
    "#                 print('******')\n",
    "        \n",
    "        \n",
    "        \n",
    "            #determine if need to seperate clips from clips\n",
    "            if(seperateClip):\n",
    "                #if is start of series\n",
    "                if timeMark == '':\n",
    "                    NOP=nameOfClip.format(iterator)\n",
    "                    makedir(os.path.join(longPath, newDirName, folder, '\"'+directoryList[ID]+'\"', subjectNo, NOP))\n",
    "                    redoDir=False\n",
    "                elif redoDir==True:\n",
    "                    NOP=nameOfClip.format(iterator)\n",
    "                    makedir(os.path.join(longPath, newDirName, folder, '\"'+directoryList[ID]+'\"', subjectNo, NOP))\n",
    "                    redoDir=False\n",
    "                else:\n",
    "                    #if gap exist\n",
    "                    if(abs(int(elemetinyList=['CHEST-TUBE PREP','KING AIRWAY','SPLINTING']\n",
    "smallList=['BLOOD-PRESSURE CUFF','COMBAT GAUZE','COMBAT TOURNIQUET','ECG LEADS','INTUBATION','IO LINE','PULSE-OX','VITAL CHECKING','WRAP HEAD WOUND']\n",
    "mediumList=['BAGGING','CHEST-TUBE','IM ADMINISTRATION','IV TOURNIQUET','SUTURING','IV LINE']nt[6:10])-int(timeMark))>2*frameGap):\n",
    "                        iterator+=1\n",
    "                        NOP=nameOfClip.format(iterator)\n",
    "                        makedir(os.path.join(longPath, newDirName, folder, '\"'+directoryList[ID]+'\"', subjectNo, NOP))\n",
    "                    #else\n",
    "                #link original to destination\n",
    "                os.system(lncmd.format( os.path.join(longPath, oldDirName, folder, '\"'+directoryList[ID]+'\"', element), \n",
    "                        os.path.join(longPath, newDirName, folder, '\"'+directoryList[ID]+'\"', subjectNo, NOP, element)))\n",
    "                timeMark=element[6:10]\n",
    "            else:        \n",
    "            #make softlink for the element\n",
    "        \n",
    "                os.system(lncmd.format( os.path.join(longPath, oldDirName, folder, '\"'+directoryList[ID]+'\"', element), \n",
    "                        os.path.join(longPath, newDirName, folder, '\"'+directoryList[ID]+'\"', subjectNo, element)))"
   ]
  },
  {
   "cell_type": "code",
   "execution_count": 6,
   "metadata": {
    "scrolled": true
   },
   "outputs": [
    {
     "name": "stdout",
     "output_type": "stream",
     "text": [
      "Performing operation for Training\n",
      "\n",
      "CHEST-TUBE PREP \n",
      "INTUBATION \n",
      "SUTURING \n",
      "CPR (COMPRESSION) \n",
      "PULSE-OX \n",
      "COMBAT TOURNIQUET \n",
      "ECG LEADS \n",
      "DRAW MEDICATION \n",
      "SWAB AREA WITH ALCOHOL \n",
      "WRAP HEAD WOUND \n",
      "IV TOURNIQUET \n",
      "SPLINTING \n",
      "IV LINE \n",
      "IO LINE \n",
      "KING AIRWAY \n",
      "CHEST-TUBE \n",
      "VITAL CHECKING \n",
      "ADMINISTER MEDICATION \n",
      "IM ADMINISTRATION \n",
      "BAGGING \n",
      "CPR (BREATH) \n",
      "ORAL AIRWAY \n",
      "BLOOD-PRESSURE CUFF \n",
      "COMBAT GAUZE \n",
      "Performing operation for Validation\n",
      "\n",
      "DRAW MEDICATION \n",
      "CHEST-TUBE PREP \n",
      "INTUBATION \n",
      "PULSE-OX \n",
      "SUTURING \n",
      "CPR (COMPRESSION) \n",
      "COMBAT TOURNIQUET \n",
      "ECG LEADS \n",
      "SWAB AREA WITH ALCOHOL \n",
      "WRAP HEAD WOUND \n",
      "IV TOURNIQUET \n",
      "SPLINTING \n",
      "IV LINE \n",
      "IO LINE \n",
      "KING AIRWAY \n",
      "CHEST-TUBE \n",
      "VITAL CHECKING \n",
      "ADMINISTER MEDICATION \n",
      "IM ADMINISTRATION \n",
      "BAGGING \n",
      "CPR (BREATH) \n",
      "ORAL AIRWAY \n",
      "BLOOD-PRESSURE CUFF \n",
      "COMBAT GAUZE \n",
      "Performing operation for Test\n",
      "\n",
      "CPR (COMPRESSION) \n",
      "SUTURING \n",
      "CHEST-TUBE PREP \n",
      "INTUBATION \n",
      "ECG LEADS \n",
      "COMBAT TOURNIQUET \n",
      "PULSE-OX \n",
      "SWAB AREA WITH ALCOHOL \n",
      "DRAW MEDICATION \n",
      "WRAP HEAD WOUND \n",
      "IV TOURNIQUET \n",
      "SPLINTING \n",
      "IV LINE \n",
      "IO LINE \n",
      "KING AIRWAY \n",
      "CHEST-TUBE \n",
      "VITAL CHECKING \n",
      "ADMINISTER MEDICATION \n",
      "IM ADMINISTRATION \n",
      "BAGGING \n",
      "CPR (BREATH) \n",
      "ORAL AIRWAY \n",
      "BLOOD-PRESSURE CUFF \n",
      "COMBAT GAUZE \n"
     ]
    }
   ],
   "source": [
    "newDirName='NewResizedBinned'\n",
    "oldDirName='NewResized'\n",
    "longPath='/media/livelab/DataStorage/Fold5'\n",
    "cmd=\"mkdir {}\"\n",
    "ignoreList=['CLAP','INCISION','INTUBATION-STYLETE','MEDICATION','PLACE CUFF']\n",
    "tinyList=['CHEST-TUBE PREP','PULSE-OX','KING AIRWAY','ORAL AIRWAY']\n",
    "smallList=['BLOOD-PRESSURE CUFF','COMBAT GAUZE','COMBAT TOURNIQUET','ECG LEADS','INTUBATION','IO LINE','PULSE-OX','VITAL CHECKING','WRAP HEAD WOUND']\n",
    "mediumList=['BAGGING','CHEST-TUBE','IM ADMINISTRATION','IV TOURNIQUET','SUTURING','IV LINE']\n",
    "frameGap=5\n",
    "makedir(os.path.join(longPath,newDirName))\n",
    "#symbol link from the original file to new location after classification\n",
    "#symbol link example: ln -sf source destination\n",
    "folderList=['Training','Validation','Test']\n",
    "\n",
    "for folder in folderList:\n",
    "    print('Performing operation for '+ folder+'\\n')\n",
    "    if os.path.exists(os.path.join(longPath, newDirName, folder)):\n",
    "        print('Folder '+ folder +' already exists, skip\\n')\n",
    "        continue\n",
    "    makedir(os.path.join(longPath, newDirName, folder))\n",
    "    target=\"{}/{}\".format(oldDirName, folder)\n",
    "    dirList=os.listdir(os.path.join(longPath, target))\n",
    "    if('.DS_Store' in dirList):\n",
    "        dirList.remove('.DS_Store')\n",
    "    for cate in dirList:\n",
    "        if cate in ignoreList:\n",
    "            dirList.remove(cate)\n",
    "    thCount=multiprocessing.cpu_count()\n",
    "    pool = multiprocessing.Pool(thCount-4)\n",
    "    partial_linkImg=partial(linkImg, directoryList=dirList)\n",
    "    N = len(dirList)\n",
    "    _=pool.map(partial_linkImg,range(N))\n",
    "    pool.close()\n",
    "    pool.join()"
   ]
  },
  {
   "cell_type": "code",
   "execution_count": null,
   "metadata": {},
   "outputs": [],
   "source": [
    "#old code"
   ]
  },
  {
   "cell_type": "code",
   "execution_count": 4,
   "metadata": {},
   "outputs": [
    {
     "name": "stdout",
     "output_type": "stream",
     "text": [
      "Performing operation for Test\n",
      "\n",
      "CPR (BREATH) \n"
     ]
    }
   ],
   "source": [
    "newDirName='ResizeBinned'\n",
    "oldDirName='Resize'\n",
    "cmd=\"mkdir {}\"\n",
    "makedir(newDirName)\n",
    "#symbol link from the original file to new location after classification\n",
    "#symbol link example: ln -sf source destination\n",
    "folderList=['Test','Training' , 'Validation']\n",
    "longPath='/Users/lingfengli/Desktop/SIR/cela-tf-starter'\n",
    "for folder in folderList:\n",
    "    print('Performing operation for '+ folder+'\\n')\n",
    "    makedir(os.path.join(longPath, newDirName, folder))\n",
    "    target=\"{}/{}\".format(oldDirName, folder)\n",
    "    dirList=os.listdir(os.path.join(longPath, target))\n",
    "    if('.DS_Store' in dirList):\n",
    "        dirList.remove('.DS_Store')\n",
    "    #a processed dirList escaping space character\n",
    "    dirListP=[]\n",
    "#     for folderName in dirList:\n",
    "#         folderName=folderName.replace(\" \", \"\\\" \\\"\")\n",
    "#         dirListP.append(folderName)\n",
    "#     for subfolder in dirListP:\n",
    "        \n",
    "    for subfolder in dirList:\n",
    "        print(subfolder+' ')\n",
    "        #create a new subfolder in new directory\n",
    "        makedir(os.path.join(longPath, newDirName, folder, '\"'+subfolder+'\"'))\n",
    "        #in the subfolder of old directory\n",
    "        fullPath=os.path.join(longPath, oldDirName, folder, subfolder)\n",
    "        elementList=os.listdir(fullPath)\n",
    "        if('.DS_Store' in elementList):\n",
    "            elementList.remove('.DS_Store')\n",
    "        for element in elementList:\n",
    "            #check subject number, if doesn't exist, create new subject folder under new directory\n",
    "            subjectNo=element[:2]\n",
    "            if(not os.path.exists(os.path.join(longPath, newDirName, folder, subfolder, subjectNo))):\n",
    "                #print('creating folder')\n",
    "                makedir(os.path.join(longPath, newDirName, folder, '\"'+subfolder+'\"', subjectNo))\n",
    "            #make softlink for the element\n",
    "            lncmd=\"ln -sf {} {}\"\n",
    "            os.system(lncmd.format( os.path.join(longPath, oldDirName, folder, '\"'+subfolder+'\"', element), \n",
    "                           os.path.join(longPath, newDirName, folder, '\"'+subfolder+'\"', subjectNo, element)))"
   ]
  },
  {
   "cell_type": "code",
   "execution_count": 83,
   "metadata": {},
   "outputs": [
    {
     "name": "stdout",
     "output_type": "stream",
     "text": [
      "Resize/Test\n"
     ]
    }
   ],
   "source": [
    "folderList=['Test','Training' , 'Validation']\n",
    "longPath='/Users/lingfengli/Desktop/SIR/cela-tf-starter'\n",
    "# for folder in folderList:\n",
    "#     target=\"/{}/{}\".format(oldDirName, folder)\n",
    "#     print(target)\n",
    "os.system(cmd.format( os.path.join(longPath, newDirName, folderList[0])))\n",
    "target=\"{}/{}\".format(oldDirName, folderList[0])\n",
    "print(target)\n"
   ]
  },
  {
   "cell_type": "code",
   "execution_count": 87,
   "metadata": {},
   "outputs": [],
   "source": []
  },
  {
   "cell_type": "code",
   "execution_count": 115,
   "metadata": {},
   "outputs": [],
   "source": [
    "dirList=os.listdir(os.path.join(longPath, target))\n",
    "if('.DS_Store' in dirList):\n",
    "    dirList.remove('.DS_Store')\n",
    "#a processed dirList escaping space character\n",
    "dirListP=[]\n",
    "for folderName in dirList:\n",
    "    folderName=folderName.replace(\" \", \"\\\" \\\"\")\n",
    "    dirListP.append(folderName)\n",
    "for subfolder in dirListP:\n",
    "    #create a new subfolder in new directory\n",
    "    os.system(cmd.format( os.path.join(longPath, newDirName, folderList[0], subfolder)))\n",
    "# for subfolder in dirList:    \n",
    "#     #in the subfolder of old directory\n",
    "#     fullPath=os.path.join(longPath, oldDirName, folderList[0], subfolder)\n",
    "#     elementList=os.listdir(fullPath)\n",
    "\n"
   ]
  },
  {
   "cell_type": "code",
   "execution_count": 121,
   "metadata": {},
   "outputs": [],
   "source": [
    "fullPath=os.path.join(longPath, oldDirName, folderList[0], dirList[0])\n",
    "elementList=os.listdir(fullPath)\n",
    "if('.DS_Store' in elementList):\n",
    "    elementList.remove('.DS_Store')"
   ]
  },
  {
   "cell_type": "code",
   "execution_count": 134,
   "metadata": {},
   "outputs": [],
   "source": [
    "for element in elementList:\n",
    "    #check subject number, if doesn't exist, create new subject folder under new directory\n",
    "    subjectNo=element[0:2]\n",
    "    if(not os.path.exists(os.path.join(longPath, newDirName, folderList[0], dirList[0], subjectNo))):\n",
    "        print('creating folder')\n",
    "        makedir(os.path.join(longPath, newDirName, folderList[0], dirList[0], subjectNo))\n",
    "    #make softlink for the element\n",
    "    lncmd=\"ln -sf {} {}\"\n",
    "    os.system(lncmd.format( os.path.join(longPath, oldDirName, folderList[0], dirList[0], element), \n",
    "                           os.path.join(longPath, newDirName, folderList[0], dirList[0], subjectNo, element)))"
   ]
  },
  {
   "cell_type": "code",
   "execution_count": 1,
   "metadata": {},
   "outputs": [
    {
     "data": {
      "text/plain": [
       "['abc1', 'abc2', 'abc3']"
      ]
     },
     "execution_count": 1,
     "metadata": {},
     "output_type": "execute_result"
    }
   ],
   "source": [
    "a=['abc1','abc2','abc3']\n",
    "a.sort()\n",
    "a"
   ]
  },
  {
   "cell_type": "code",
   "execution_count": 10,
   "metadata": {},
   "outputs": [
    {
     "data": {
      "text/plain": [
       "123"
      ]
     },
     "execution_count": 10,
     "metadata": {},
     "output_type": "execute_result"
    }
   ],
   "source": [
    "int(a[4:])"
   ]
  },
  {
   "cell_type": "code",
   "execution_count": 5,
   "metadata": {},
   "outputs": [
    {
     "data": {
      "text/plain": [
       "3"
      ]
     },
     "execution_count": 5,
     "metadata": {},
     "output_type": "execute_result"
    }
   ],
   "source": [
    "123%10"
   ]
  },
  {
   "cell_type": "code",
   "execution_count": null,
   "metadata": {},
   "outputs": [],
   "source": []
  }
 ],
 "metadata": {
  "kernelspec": {
   "display_name": "Python 3",
   "language": "python",
   "name": "python3"
  },
  "language_info": {
   "codemirror_mode": {
    "name": "ipython",
    "version": 3
   },
   "file_extension": ".py",
   "mimetype": "text/x-python",
   "name": "python",
   "nbconvert_exporter": "python",
   "pygments_lexer": "ipython3",
   "version": "3.7.3"
  }
 },
 "nbformat": 4,
 "nbformat_minor": 2
}
