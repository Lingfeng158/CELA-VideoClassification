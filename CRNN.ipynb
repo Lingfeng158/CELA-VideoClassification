{
 "cells": [
  {
   "cell_type": "code",
   "execution_count": 1,
   "metadata": {},
   "outputs": [
    {
     "name": "stderr",
     "output_type": "stream",
     "text": [
      "Using TensorFlow backend.\n"
     ]
    }
   ],
   "source": [
    "import sys\n",
    "# insert at 1, 0 is the script path (or '' in REPL)\n",
    "sys.path.insert(1, './Preprocessing')\n",
    "import numpy as np\n",
    "import os\n",
    "#os.environ[\"KERAS_BACKEND\"] = \"plaidml.keras.backend\"\n",
    "from imgDataGenerator import *\n",
    "from preprocessing import *\n",
    "import tensorflow as tf\n",
    "import keras\n",
    "from keras import applications\n",
    "from keras.models import Sequential, Model, Input\n",
    "from keras.layers import Conv2D, MaxPooling2D, LSTM, Reshape, Permute, TimeDistributed, CuDNNLSTM,LeakyReLU\n",
    "from keras.layers import Activation, Dropout, Flatten, Dense, BatchNormalization\n",
    "\n",
    "from keras.optimizers import SGD\n",
    "from keras.callbacks import ModelCheckpoint, LearningRateScheduler, TensorBoard, EarlyStopping\n",
    "from keras.layers.merge import concatenate\n",
    "#suppress warnings\n",
    "import warnings\n",
    "warnings.filterwarnings('ignore')"
   ]
  },
  {
   "cell_type": "code",
   "execution_count": null,
   "metadata": {},
   "outputs": [],
   "source": []
  },
  {
   "cell_type": "code",
   "execution_count": null,
   "metadata": {},
   "outputs": [],
   "source": [
    "#data dimension will be: #bag * #frame * 244 * 244 * 3\n",
    "#simple implementation of CNN>LSTM without multires\n"
   ]
  },
  {
   "cell_type": "code",
   "execution_count": 2,
   "metadata": {},
   "outputs": [
    {
     "name": "stdout",
     "output_type": "stream",
     "text": [
      "Length Check on Folder Succeed\n"
     ]
    }
   ],
   "source": [
    "#Note for Test, Training, and Validation folders, they all need to have same categories\n",
    "parentPath='/home/billy/Desktop/VideoClasBinned'\n",
    "checkAndGeneratePath(parentPath)\n",
    "testPath='/home/billy/Desktop/VideoClasBinned/Test'\n",
    "trainPath='/home/billy/Desktop/VideoClasBinned/Training'\n",
    "validPath='/home/billy/Desktop/VideoClasBinned/Validation'\n",
    "\n"
   ]
  },
  {
   "cell_type": "code",
   "execution_count": 3,
   "metadata": {},
   "outputs": [],
   "source": [
    "trainingGen=imgDataGenerator(trainPath)\n",
    "validGen=imgDataGenerator(validPath)"
   ]
  },
  {
   "cell_type": "code",
   "execution_count": 4,
   "metadata": {},
   "outputs": [
    {
     "name": "stdout",
     "output_type": "stream",
     "text": [
      "WARNING:tensorflow:From /home/billy/anaconda3/lib/python3.7/site-packages/tensorflow/python/framework/op_def_library.py:263: colocate_with (from tensorflow.python.framework.ops) is deprecated and will be removed in a future version.\n",
      "Instructions for updating:\n",
      "Colocations handled automatically by placer.\n",
      "WARNING:tensorflow:From /home/billy/anaconda3/lib/python3.7/site-packages/keras/backend/tensorflow_backend.py:3445: calling dropout (from tensorflow.python.ops.nn_ops) with keep_prob is deprecated and will be removed in a future version.\n",
      "Instructions for updating:\n",
      "Please use `rate` instead of `keep_prob`. Rate should be set to `rate = 1 - keep_prob`.\n"
     ]
    }
   ],
   "source": [
    "#Using TimeDistributed Wrapper\n",
    "inputData=Input(shape=(None, 244, 244, 3))\n",
    "model = applications.inception_v3.InceptionV3(weights='imagenet', include_top=False,input_shape = ( 244, 244, 3))\n",
    "for layer in model.layers[:278]: #until mixed9_0, untrainable\n",
    "   layer.trainable = False\n",
    "encoded_frame = TimeDistributed(model)(inputData)\n",
    "\n",
    "encoded_frame=TimeDistributed(Flatten())(encoded_frame)\n",
    "intermediateOut = CuDNNLSTM(128, return_sequences = True)(encoded_frame)\n",
    "intermediateOut = BatchNormalization()(intermediateOut)\n",
    "intermediateOut = CuDNNLSTM(128, return_sequences = True)(intermediateOut)\n",
    "intermediateOut = BatchNormalization()(intermediateOut)\n",
    "intermediateOut = CuDNNLSTM(64)(intermediateOut)\n",
    "intermediateOut = BatchNormalization()(intermediateOut)\n",
    "\n",
    "intermediateOut = Dense(64)(intermediateOut)\n",
    "intermediateOut = BatchNormalization()(intermediateOut)\n",
    "intermediateOut = LeakyReLU(alpha=0.1)(intermediateOut)\n",
    "intermediateOut = Dropout(0.4)(intermediateOut)\n",
    "\n",
    "intermediateOut = Dense(32)(intermediateOut)\n",
    "intermediateOut = BatchNormalization()(intermediateOut)\n",
    "intermediateOut = LeakyReLU(alpha=0.1)(intermediateOut)\n",
    "\n",
    "intermediateOut = Dropout(0.4)(intermediateOut)\n",
    "prediction = Dense(29, activation='softmax')(intermediateOut)\n",
    "optmr = keras.optimizers.adam(lr=0.005, decay = 1e-5)\n",
    "model_final = Model(input = [inputData], output = prediction)\n",
    "model_final.compile(loss = \"categorical_crossentropy\", optimizer = optmr, metrics=[\"accuracy\"])"
   ]
  },
  {
   "cell_type": "code",
   "execution_count": null,
   "metadata": {
    "scrolled": false
   },
   "outputs": [],
   "source": [
    "model_final.fit_generator(generator=trainingGen,\n",
    "                    validation_data=validGen,\n",
    "                    use_multiprocessing=True,\n",
    "                    epochs = 20\n",
    "                    workers=2)"
   ]
  },
  {
   "cell_type": "code",
   "execution_count": 5,
   "metadata": {
    "scrolled": false
   },
   "outputs": [
    {
     "name": "stdout",
     "output_type": "stream",
     "text": [
      "WARNING:tensorflow:From /home/billy/anaconda3/lib/python3.7/site-packages/tensorflow/python/ops/math_ops.py:3066: to_int32 (from tensorflow.python.ops.math_ops) is deprecated and will be removed in a future version.\n",
      "Instructions for updating:\n",
      "Use tf.cast instead.\n",
      "Epoch 1/20\n",
      "399/399 [==============================] - 430s 1s/step - loss: 3.0937 - acc: 0.1153 - val_loss: 15.6939 - val_acc: 0.0263\n",
      "Epoch 2/20\n",
      "399/399 [==============================] - 270s 678ms/step - loss: 2.9869 - acc: 0.1303 - val_loss: 15.6939 - val_acc: 0.0263\n",
      "Epoch 3/20\n",
      "399/399 [==============================] - 267s 669ms/step - loss: 2.9976 - acc: 0.1253 - val_loss: 16.1181 - val_acc: 0.0000e+00\n",
      "Epoch 4/20\n",
      "399/399 [==============================] - 265s 665ms/step - loss: 2.9719 - acc: 0.1353 - val_loss: 15.6939 - val_acc: 0.0263\n",
      "Epoch 5/20\n",
      "399/399 [==============================] - 266s 666ms/step - loss: 2.9784 - acc: 0.1153 - val_loss: 16.1181 - val_acc: 0.0000e+00\n",
      "Epoch 6/20\n",
      "399/399 [==============================] - 266s 667ms/step - loss: 2.9791 - acc: 0.1253 - val_loss: 16.1181 - val_acc: 0.0000e+00\n",
      "Epoch 7/20\n",
      "399/399 [==============================] - 267s 669ms/step - loss: 2.9839 - acc: 0.1353 - val_loss: 16.1181 - val_acc: 0.0000e+00\n",
      "Epoch 8/20\n",
      "399/399 [==============================] - 267s 669ms/step - loss: 2.9801 - acc: 0.1303 - val_loss: 16.1181 - val_acc: 0.0000e+00\n",
      "Epoch 9/20\n",
      "399/399 [==============================] - 266s 667ms/step - loss: 2.9732 - acc: 0.1103 - val_loss: 16.1181 - val_acc: 0.0000e+00\n",
      "Epoch 10/20\n",
      "399/399 [==============================] - 265s 664ms/step - loss: 2.9733 - acc: 0.1303 - val_loss: 16.1181 - val_acc: 0.0000e+00\n",
      "Epoch 11/20\n",
      "399/399 [==============================] - 265s 665ms/step - loss: 2.9753 - acc: 0.1303 - val_loss: 16.1181 - val_acc: 0.0000e+00\n",
      "Epoch 12/20\n",
      "399/399 [==============================] - 265s 664ms/step - loss: 2.9706 - acc: 0.1303 - val_loss: 15.6939 - val_acc: 0.0263\n",
      "Epoch 13/20\n",
      "399/399 [==============================] - 265s 664ms/step - loss: 2.9754 - acc: 0.1128 - val_loss: 16.1181 - val_acc: 0.0000e+00\n",
      "Epoch 14/20\n",
      "399/399 [==============================] - 266s 666ms/step - loss: 2.9655 - acc: 0.1153 - val_loss: 15.6939 - val_acc: 0.0263\n",
      "Epoch 15/20\n",
      "399/399 [==============================] - 264s 661ms/step - loss: 2.9705 - acc: 0.1278 - val_loss: 16.1181 - val_acc: 0.0000e+00\n",
      "Epoch 16/20\n",
      "399/399 [==============================] - 266s 667ms/step - loss: 2.9662 - acc: 0.1053 - val_loss: 16.1181 - val_acc: 0.0000e+00\n",
      "Epoch 17/20\n",
      "399/399 [==============================] - 266s 667ms/step - loss: 2.9658 - acc: 0.1378 - val_loss: 16.1181 - val_acc: 0.0000e+00\n",
      "Epoch 18/20\n",
      "399/399 [==============================] - 267s 670ms/step - loss: 2.9585 - acc: 0.1353 - val_loss: 16.1181 - val_acc: 0.0000e+00\n",
      "Epoch 19/20\n",
      "399/399 [==============================] - 265s 664ms/step - loss: 2.9636 - acc: 0.1328 - val_loss: 16.1181 - val_acc: 0.0000e+00\n",
      "Epoch 20/20\n",
      "399/399 [==============================] - 266s 667ms/step - loss: 2.9675 - acc: 0.1378 - val_loss: 16.1181 - val_acc: 0.0000e+00\n"
     ]
    }
   ],
   "source": [
    "with tf.device('GPU:0'):\n",
    "    model_final.fit_generator(generator=trainingGen,\n",
    "                    validation_data=validGen,\n",
    "                    use_multiprocessing=True,\n",
    "                    epochs = 20,\n",
    "                    workers=2)\n",
    "    "
   ]
  },
  {
   "cell_type": "code",
   "execution_count": null,
   "metadata": {},
   "outputs": [],
   "source": [
    "from tensorflow.python.client import device_lib\n",
    "\n",
    "print(device_lib.list_local_devices())"
   ]
  },
  {
   "cell_type": "code",
   "execution_count": 7,
   "metadata": {},
   "outputs": [],
   "source": [
    "model_json = model_final.to_json()\n",
    "with open(\"model.json\", \"w\") as json_file:\n",
    "    json_file.write(model_json)\n",
    "# serialize weights to HDF5\n",
    "model_final.save_weights(\"model.h5\")"
   ]
  },
  {
   "cell_type": "code",
   "execution_count": null,
   "metadata": {},
   "outputs": [],
   "source": []
  }
 ],
 "metadata": {
  "kernelspec": {
   "display_name": "Python 3",
   "language": "python",
   "name": "python3"
  },
  "language_info": {
   "codemirror_mode": {
    "name": "ipython",
    "version": 3
   },
   "file_extension": ".py",
   "mimetype": "text/x-python",
   "name": "python",
   "nbconvert_exporter": "python",
   "pygments_lexer": "ipython3",
   "version": "3.7.3"
  }
 },
 "nbformat": 4,
 "nbformat_minor": 2
}
