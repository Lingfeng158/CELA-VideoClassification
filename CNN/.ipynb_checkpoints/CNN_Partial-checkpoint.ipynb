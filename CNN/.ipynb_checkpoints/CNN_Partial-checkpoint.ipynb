{
 "cells": [
  {
   "cell_type": "code",
   "execution_count": 1,
   "metadata": {},
   "outputs": [
    {
     "name": "stderr",
     "output_type": "stream",
     "text": [
      "Using TensorFlow backend.\n"
     ]
    }
   ],
   "source": [
    "import tensorflow as tf\n",
    "import numpy as np\n",
    "from tensorflow import keras\n",
    "from keras import applications\n",
    "from keras.models import Sequential, Model, Input\n",
    "from keras.layers import Conv2D, MaxPooling2D\n",
    "from keras.layers import Conv2D, MaxPooling2D, LSTM, Reshape, Permute, TimeDistributed, CuDNNLSTM,LeakyReLU\n",
    "from keras.layers import Activation, Dropout, Flatten, Dense, BatchNormalization\n",
    "from keras.callbacks import ModelCheckpoint, LearningRateScheduler, TensorBoard, EarlyStopping\n",
    "from keras.optimizers import Adam"
   ]
  },
  {
   "cell_type": "code",
   "execution_count": 2,
   "metadata": {},
   "outputs": [],
   "source": [
    "train_path = '/home/livelab/Desktop/NewResizedBalanced/Training/' # directory containing subsets of data with labels\n",
    "valid_path = '/home/livelab/Desktop/NewResized/Validation/'\n",
    "test_path = '/home/livelab/Desktop/NewResized/Test/'"
   ]
  },
  {
   "cell_type": "code",
   "execution_count": 3,
   "metadata": {},
   "outputs": [],
   "source": [
    "def findLayerNumByName(model, name):\n",
    "    layerList=model.layers\n",
    "    return layerList.index(model.get_layer(layer_name))"
   ]
  },
  {
   "cell_type": "code",
   "execution_count": 4,
   "metadata": {},
   "outputs": [
    {
     "name": "stdout",
     "output_type": "stream",
     "text": [
      "Found 262258 images belonging to 24 classes.\n",
      "Found 163247 images belonging to 24 classes.\n",
      "Found 171954 images belonging to 24 classes.\n"
     ]
    }
   ],
   "source": [
    "BATCH_SIZE = 64 # how many to process at once (greatest power of 2 that can ft in RAM)\n",
    "\n",
    "train_datagen = keras.preprocessing.image.ImageDataGenerator( rotation_range=0, width_shift_range=0.0, height_shift_range=0.0, brightness_range=None, \n",
    "                                                             shear_range=0.0, zoom_range=0.0, channel_shift_range=0.0, fill_mode='nearest', \n",
    "                                                             cval=0.0, horizontal_flip=True, vertical_flip=True)\n",
    "valid_datagen = keras.preprocessing.image.ImageDataGenerator()\n",
    "test_datagen = keras.preprocessing.image.ImageDataGenerator()\n",
    "\n",
    "# Use the ImageDataGenerators to load the training data\n",
    "train_gen = train_datagen.flow_from_directory(directory=train_path,\n",
    "                                    target_size=(256,256), # size to resize images to\n",
    "                                    color_mode='rgb', # color mode of the images\n",
    "                                    batch_size=BATCH_SIZE, # how many images to process at once\n",
    "                                    class_mode='categorical', # classify into categorical classes\n",
    "                                    shuffle=True # shuffle order of images\n",
    ")\n",
    "valid_gen = valid_datagen.flow_from_directory(directory=valid_path,\n",
    "                                    target_size=(256,256),\n",
    "                                    color_mode='rgb',\n",
    "                                    batch_size=BATCH_SIZE,\n",
    "                                    class_mode='categorical',\n",
    "                                    shuffle=True\n",
    ")\n",
    "test_gen = test_datagen.flow_from_directory(directory=test_path,\n",
    "                                    target_size=(256,256),\n",
    "                                    color_mode='rgb',\n",
    "                                    batch_size=BATCH_SIZE,\n",
    "                                    class_mode='categorical',\n",
    "                                    shuffle=False\n",
    ")"
   ]
  },
  {
   "cell_type": "code",
   "execution_count": 5,
   "metadata": {},
   "outputs": [
    {
     "name": "stdout",
     "output_type": "stream",
     "text": [
      "WARNING:tensorflow:From /home/livelab/anaconda3/lib/python3.7/site-packages/tensorflow/python/framework/op_def_library.py:263: colocate_with (from tensorflow.python.framework.ops) is deprecated and will be removed in a future version.\n",
      "Instructions for updating:\n",
      "Colocations handled automatically by placer.\n",
      "WARNING:tensorflow:From /home/livelab/anaconda3/lib/python3.7/site-packages/keras/backend/tensorflow_backend.py:3445: calling dropout (from tensorflow.python.ops.nn_ops) with keep_prob is deprecated and will be removed in a future version.\n",
      "Instructions for updating:\n",
      "Please use `rate` instead of `keep_prob`. Rate should be set to `rate = 1 - keep_prob`.\n"
     ]
    },
    {
     "name": "stderr",
     "output_type": "stream",
     "text": [
      "/home/livelab/anaconda3/lib/python3.7/site-packages/ipykernel_launcher.py:18: UserWarning: Update your `Model` call to the Keras 2 API: `Model(inputs=Tensor(\"in..., outputs=Tensor(\"de...)`\n"
     ]
    }
   ],
   "source": [
    "#full inception\n",
    "#freeze mix3 and prior\n",
    "inputData=Input(shape=(256, 256, 3))\n",
    "model = applications.inception_v3.InceptionV3(weights='imagenet', include_top=False,input_shape = ( 256, 256, 3))\n",
    "layer_name = 'mixed6'\n",
    "index=findLayerNumByName(model, layer_name)\n",
    "intermediate_model=Model(inputs=model.input,\n",
    "                                 outputs=model.get_layer(layer_name).output)\n",
    "# for layer in intermediate_model.layers:\n",
    "#     layer.trainable = False\n",
    "intermediateOut = Flatten()(intermediate_model.output)\n",
    "intermediateOut = Dense(32)(intermediateOut)\n",
    "intermediateOut = BatchNormalization()(intermediateOut)\n",
    "intermediateOut = LeakyReLU(alpha=0.1)(intermediateOut)\n",
    "intermediateOut = Dropout(0.4)(intermediateOut)\n",
    "prediction = Dense(24, activation='softmax')(intermediateOut)\n",
    "optmr = Adam(lr=0.0001, decay = 5e-4)\n",
    "model_final = Model(input = model.input, output = prediction)\n",
    "model_final.compile(loss = \"categorical_crossentropy\", optimizer = optmr, metrics=[\"accuracy\"])"
   ]
  },
  {
   "cell_type": "code",
   "execution_count": null,
   "metadata": {},
   "outputs": [],
   "source": [
    "model_final.summary()"
   ]
  },
  {
   "cell_type": "code",
   "execution_count": null,
   "metadata": {},
   "outputs": [],
   "source": [
    "filepath = \"saved-model-{epoch:02d}-{val_acc:.2f}.hdf5\"\n",
    "checkpoint = ModelCheckpoint(filepath, monitor='val_acc', verbose=1, save_best_only=True,save_weights_only=True, mode='auto', period=1)\n",
    "callbacks_list = [checkpoint]"
   ]
  },
  {
   "cell_type": "code",
   "execution_count": null,
   "metadata": {},
   "outputs": [],
   "source": [
    "STEP_SIZE_TRAIN=train_gen.n//train_gen.batch_size/20\n",
    "STEP_SIZE_VALID=valid_gen.n//valid_gen.batch_size"
   ]
  },
  {
   "cell_type": "code",
   "execution_count": null,
   "metadata": {
    "scrolled": true
   },
   "outputs": [],
   "source": [
    "with tf.device('/GPU:0'):\n",
    "    model_final.fit_generator(generator=train_gen,\n",
    "                        steps_per_epoch=STEP_SIZE_TRAIN, # number of steps in each epoch\n",
    "                        validation_data=valid_gen,\n",
    "                        validation_steps=STEP_SIZE_VALID,\n",
    "                        callbacks=callbacks_list,\n",
    "                        epochs=EPOCH_NUM\n",
    "    )"
   ]
  },
  {
   "cell_type": "code",
   "execution_count": 6,
   "metadata": {},
   "outputs": [],
   "source": [
    "model_final.load_weights(\"CNN_Partial_0.49.hdf5\")"
   ]
  },
  {
   "cell_type": "code",
   "execution_count": 11,
   "metadata": {},
   "outputs": [
    {
     "name": "stdout",
     "output_type": "stream",
     "text": [
      "Accuracy: 0.509674004095309\n"
     ]
    }
   ],
   "source": [
    "STEP_SIZE_TEST=test_gen.n//test_gen.batch_size\n",
    "# evaluate the function using the test set\n",
    "test_loss, test_acc = model_final.evaluate_generator(test_gen,\n",
    "                                            STEP_SIZE_TEST)\n",
    "\n",
    "# print test accuracy\n",
    "print('Accuracy: {}'.format(test_acc))"
   ]
  },
  {
   "cell_type": "code",
   "execution_count": 7,
   "metadata": {},
   "outputs": [
    {
     "name": "stdout",
     "output_type": "stream",
     "text": [
      "step  0  in  2686\n",
      "step  50  in  2686\n",
      "step  100  in  2686\n",
      "step  150  in  2686\n",
      "step  200  in  2686\n",
      "step  250  in  2686\n",
      "step  300  in  2686\n",
      "step  350  in  2686\n",
      "step  400  in  2686\n",
      "step  450  in  2686\n",
      "step  500  in  2686\n",
      "step  550  in  2686\n",
      "step  600  in  2686\n",
      "step  650  in  2686\n",
      "step  700  in  2686\n",
      "step  750  in  2686\n",
      "step  800  in  2686\n",
      "step  850  in  2686\n",
      "step  900  in  2686\n",
      "step  950  in  2686\n",
      "step  1000  in  2686\n",
      "step  1050  in  2686\n",
      "step  1100  in  2686\n",
      "step  1150  in  2686\n",
      "step  1200  in  2686\n",
      "step  1250  in  2686\n",
      "step  1300  in  2686\n",
      "step  1350  in  2686\n",
      "step  1400  in  2686\n",
      "step  1450  in  2686\n",
      "step  1500  in  2686\n",
      "step  1550  in  2686\n",
      "step  1600  in  2686\n",
      "step  1650  in  2686\n",
      "step  1700  in  2686\n",
      "step  1750  in  2686\n",
      "step  1800  in  2686\n",
      "step  1850  in  2686\n",
      "step  1900  in  2686\n",
      "step  1950  in  2686\n",
      "step  2000  in  2686\n",
      "step  2050  in  2686\n",
      "step  2100  in  2686\n",
      "step  2150  in  2686\n",
      "step  2200  in  2686\n",
      "step  2250  in  2686\n",
      "step  2300  in  2686\n",
      "step  2350  in  2686\n",
      "step  2400  in  2686\n",
      "step  2450  in  2686\n",
      "step  2500  in  2686\n",
      "step  2550  in  2686\n",
      "step  2600  in  2686\n",
      "step  2650  in  2686\n"
     ]
    }
   ],
   "source": [
    "#compute confusion matrix\n",
    "#col : truth, #row : pred\n",
    "conf=np.zeros((24,24))\n",
    "STEP_SIZE_TEST=test_gen.n//test_gen.batch_size\n",
    "for step in range(STEP_SIZE_TEST):\n",
    "    if(step%50==0):\n",
    "        print('step ', step, ' in ',  STEP_SIZE_TEST)\n",
    "    x,y = test_gen.__getitem__(step)\n",
    "    yh=model_final.predict(x)\n",
    "    for index in range(len(y)):\n",
    "        conf[np.argmax(y[index])][np.argmax(yh[index])]+=1\n"
   ]
  },
  {
   "cell_type": "code",
   "execution_count": 8,
   "metadata": {},
   "outputs": [
    {
     "data": {
      "text/plain": [
       "array([[3.2300e+03, 0.0000e+00, 0.0000e+00, 1.6000e+01, 1.0000e+00,\n",
       "        0.0000e+00, 0.0000e+00, 0.0000e+00, 0.0000e+00, 4.0000e+00,\n",
       "        0.0000e+00, 2.0600e+02, 0.0000e+00, 2.4100e+02, 2.8010e+03,\n",
       "        9.9000e+01, 0.0000e+00, 0.0000e+00, 0.0000e+00, 0.0000e+00,\n",
       "        0.0000e+00, 6.7000e+01, 0.0000e+00, 0.0000e+00],\n",
       "       [1.0000e+00, 2.7352e+04, 0.0000e+00, 5.0700e+02, 0.0000e+00,\n",
       "        0.0000e+00, 0.0000e+00, 0.0000e+00, 0.0000e+00, 2.8070e+03,\n",
       "        0.0000e+00, 0.0000e+00, 0.0000e+00, 0.0000e+00, 0.0000e+00,\n",
       "        0.0000e+00, 9.1000e+01, 0.0000e+00, 0.0000e+00, 0.0000e+00,\n",
       "        0.0000e+00, 0.0000e+00, 0.0000e+00, 0.0000e+00],\n",
       "       [2.5700e+02, 0.0000e+00, 3.4200e+02, 3.2000e+01, 0.0000e+00,\n",
       "        0.0000e+00, 0.0000e+00, 0.0000e+00, 0.0000e+00, 2.0000e+00,\n",
       "        0.0000e+00, 7.0000e+00, 0.0000e+00, 4.1700e+02, 1.6100e+02,\n",
       "        0.0000e+00, 0.0000e+00, 0.0000e+00, 0.0000e+00, 1.5940e+03,\n",
       "        8.0000e+00, 6.2000e+01, 5.3980e+03, 0.0000e+00],\n",
       "       [2.5160e+03, 0.0000e+00, 0.0000e+00, 5.3190e+03, 1.6000e+01,\n",
       "        0.0000e+00, 0.0000e+00, 0.0000e+00, 0.0000e+00, 2.1200e+02,\n",
       "        0.0000e+00, 9.3400e+02, 0.0000e+00, 7.0000e+00, 4.6400e+02,\n",
       "        0.0000e+00, 0.0000e+00, 0.0000e+00, 0.0000e+00, 0.0000e+00,\n",
       "        0.0000e+00, 1.3200e+02, 0.0000e+00, 0.0000e+00],\n",
       "       [0.0000e+00, 0.0000e+00, 0.0000e+00, 0.0000e+00, 0.0000e+00,\n",
       "        0.0000e+00, 0.0000e+00, 0.0000e+00, 0.0000e+00, 0.0000e+00,\n",
       "        0.0000e+00, 0.0000e+00, 0.0000e+00, 0.0000e+00, 0.0000e+00,\n",
       "        0.0000e+00, 0.0000e+00, 0.0000e+00, 0.0000e+00, 0.0000e+00,\n",
       "        0.0000e+00, 0.0000e+00, 0.0000e+00, 0.0000e+00],\n",
       "       [0.0000e+00, 0.0000e+00, 0.0000e+00, 0.0000e+00, 0.0000e+00,\n",
       "        1.6340e+03, 2.0500e+02, 0.0000e+00, 0.0000e+00, 0.0000e+00,\n",
       "        0.0000e+00, 0.0000e+00, 0.0000e+00, 0.0000e+00, 0.0000e+00,\n",
       "        0.0000e+00, 0.0000e+00, 0.0000e+00, 0.0000e+00, 2.5080e+03,\n",
       "        0.0000e+00, 0.0000e+00, 0.0000e+00, 1.0000e+00],\n",
       "       [0.0000e+00, 0.0000e+00, 0.0000e+00, 0.0000e+00, 0.0000e+00,\n",
       "        0.0000e+00, 3.4170e+03, 0.0000e+00, 0.0000e+00, 0.0000e+00,\n",
       "        0.0000e+00, 0.0000e+00, 0.0000e+00, 0.0000e+00, 0.0000e+00,\n",
       "        0.0000e+00, 0.0000e+00, 0.0000e+00, 0.0000e+00, 0.0000e+00,\n",
       "        0.0000e+00, 0.0000e+00, 0.0000e+00, 0.0000e+00],\n",
       "       [8.8000e+01, 0.0000e+00, 1.3000e+01, 0.0000e+00, 0.0000e+00,\n",
       "        0.0000e+00, 3.9400e+02, 0.0000e+00, 0.0000e+00, 2.0000e+00,\n",
       "        0.0000e+00, 0.0000e+00, 0.0000e+00, 0.0000e+00, 0.0000e+00,\n",
       "        0.0000e+00, 1.8000e+01, 0.0000e+00, 0.0000e+00, 6.8300e+02,\n",
       "        0.0000e+00, 0.0000e+00, 8.2600e+02, 0.0000e+00],\n",
       "       [1.3820e+03, 0.0000e+00, 0.0000e+00, 0.0000e+00, 0.0000e+00,\n",
       "        0.0000e+00, 1.0770e+03, 0.0000e+00, 0.0000e+00, 8.0000e+00,\n",
       "        0.0000e+00, 0.0000e+00, 0.0000e+00, 4.0000e+00, 0.0000e+00,\n",
       "        0.0000e+00, 4.9440e+03, 0.0000e+00, 0.0000e+00, 7.0400e+02,\n",
       "        0.0000e+00, 0.0000e+00, 4.0200e+02, 0.0000e+00],\n",
       "       [2.3360e+03, 0.0000e+00, 2.1900e+02, 4.0600e+02, 1.8000e+01,\n",
       "        1.0000e+00, 0.0000e+00, 0.0000e+00, 0.0000e+00, 5.0600e+02,\n",
       "        0.0000e+00, 5.2500e+02, 0.0000e+00, 7.6400e+02, 9.6500e+02,\n",
       "        3.0000e+01, 0.0000e+00, 0.0000e+00, 0.0000e+00, 1.0800e+02,\n",
       "        0.0000e+00, 4.0700e+02, 1.0000e+00, 0.0000e+00],\n",
       "       [0.0000e+00, 0.0000e+00, 1.4000e+01, 0.0000e+00, 0.0000e+00,\n",
       "        0.0000e+00, 0.0000e+00, 0.0000e+00, 0.0000e+00, 0.0000e+00,\n",
       "        0.0000e+00, 0.0000e+00, 0.0000e+00, 0.0000e+00, 1.0000e+00,\n",
       "        0.0000e+00, 0.0000e+00, 0.0000e+00, 0.0000e+00, 6.0000e+00,\n",
       "        0.0000e+00, 0.0000e+00, 9.0380e+03, 0.0000e+00],\n",
       "       [9.4500e+02, 0.0000e+00, 1.6400e+02, 4.8700e+02, 1.0000e+00,\n",
       "        0.0000e+00, 0.0000e+00, 0.0000e+00, 0.0000e+00, 1.3100e+02,\n",
       "        0.0000e+00, 7.0700e+02, 0.0000e+00, 1.2400e+02, 4.0900e+02,\n",
       "        1.0000e+00, 0.0000e+00, 0.0000e+00, 0.0000e+00, 7.1000e+01,\n",
       "        0.0000e+00, 2.1200e+02, 0.0000e+00, 0.0000e+00],\n",
       "       [1.4000e+01, 2.4000e+01, 4.6000e+01, 0.0000e+00, 0.0000e+00,\n",
       "        0.0000e+00, 1.3670e+03, 0.0000e+00, 0.0000e+00, 4.9800e+02,\n",
       "        0.0000e+00, 0.0000e+00, 0.0000e+00, 0.0000e+00, 0.0000e+00,\n",
       "        0.0000e+00, 1.9710e+03, 0.0000e+00, 0.0000e+00, 3.9000e+01,\n",
       "        0.0000e+00, 0.0000e+00, 3.0000e+00, 0.0000e+00],\n",
       "       [1.7450e+03, 0.0000e+00, 0.0000e+00, 0.0000e+00, 0.0000e+00,\n",
       "        0.0000e+00, 0.0000e+00, 0.0000e+00, 0.0000e+00, 0.0000e+00,\n",
       "        0.0000e+00, 0.0000e+00, 0.0000e+00, 7.0430e+03, 1.0000e+00,\n",
       "        0.0000e+00, 0.0000e+00, 0.0000e+00, 0.0000e+00, 6.0000e+00,\n",
       "        0.0000e+00, 1.1000e+01, 1.0000e+00, 0.0000e+00],\n",
       "       [5.5000e+01, 0.0000e+00, 0.0000e+00, 0.0000e+00, 0.0000e+00,\n",
       "        0.0000e+00, 0.0000e+00, 0.0000e+00, 0.0000e+00, 0.0000e+00,\n",
       "        0.0000e+00, 0.0000e+00, 0.0000e+00, 0.0000e+00, 1.6983e+04,\n",
       "        1.2210e+03, 0.0000e+00, 0.0000e+00, 0.0000e+00, 0.0000e+00,\n",
       "        0.0000e+00, 3.0000e+00, 5.0000e+00, 0.0000e+00],\n",
       "       [5.3700e+02, 0.0000e+00, 0.0000e+00, 0.0000e+00, 0.0000e+00,\n",
       "        0.0000e+00, 0.0000e+00, 0.0000e+00, 0.0000e+00, 0.0000e+00,\n",
       "        0.0000e+00, 0.0000e+00, 0.0000e+00, 0.0000e+00, 2.6520e+03,\n",
       "        6.3000e+01, 0.0000e+00, 0.0000e+00, 0.0000e+00, 0.0000e+00,\n",
       "        0.0000e+00, 0.0000e+00, 1.1000e+01, 0.0000e+00],\n",
       "       [8.4900e+02, 1.9600e+02, 3.5700e+02, 0.0000e+00, 0.0000e+00,\n",
       "        0.0000e+00, 0.0000e+00, 0.0000e+00, 0.0000e+00, 5.1700e+02,\n",
       "        0.0000e+00, 0.0000e+00, 0.0000e+00, 0.0000e+00, 0.0000e+00,\n",
       "        0.0000e+00, 6.9000e+02, 0.0000e+00, 0.0000e+00, 4.0000e+00,\n",
       "        0.0000e+00, 0.0000e+00, 4.0000e+00, 0.0000e+00],\n",
       "       [4.8900e+02, 4.0000e+00, 2.9600e+02, 0.0000e+00, 0.0000e+00,\n",
       "        0.0000e+00, 0.0000e+00, 0.0000e+00, 0.0000e+00, 6.3100e+02,\n",
       "        0.0000e+00, 0.0000e+00, 0.0000e+00, 0.0000e+00, 0.0000e+00,\n",
       "        0.0000e+00, 5.1200e+02, 0.0000e+00, 0.0000e+00, 8.0000e+00,\n",
       "        0.0000e+00, 5.0000e+00, 1.0000e+00, 0.0000e+00],\n",
       "       [9.0000e+00, 0.0000e+00, 9.1000e+01, 0.0000e+00, 0.0000e+00,\n",
       "        0.0000e+00, 0.0000e+00, 0.0000e+00, 0.0000e+00, 2.0000e+00,\n",
       "        0.0000e+00, 0.0000e+00, 0.0000e+00, 3.0000e+00, 0.0000e+00,\n",
       "        0.0000e+00, 0.0000e+00, 0.0000e+00, 0.0000e+00, 1.2600e+02,\n",
       "        0.0000e+00, 0.0000e+00, 8.1900e+02, 0.0000e+00],\n",
       "       [0.0000e+00, 0.0000e+00, 0.0000e+00, 0.0000e+00, 0.0000e+00,\n",
       "        1.0600e+02, 3.8100e+02, 0.0000e+00, 0.0000e+00, 0.0000e+00,\n",
       "        0.0000e+00, 0.0000e+00, 0.0000e+00, 4.0000e+00, 0.0000e+00,\n",
       "        0.0000e+00, 0.0000e+00, 0.0000e+00, 0.0000e+00, 6.4570e+03,\n",
       "        0.0000e+00, 0.0000e+00, 0.0000e+00, 5.0000e+00],\n",
       "       [2.5410e+03, 0.0000e+00, 0.0000e+00, 7.5740e+03, 0.0000e+00,\n",
       "        0.0000e+00, 0.0000e+00, 0.0000e+00, 0.0000e+00, 7.5000e+01,\n",
       "        0.0000e+00, 4.8000e+01, 0.0000e+00, 2.2900e+02, 9.2000e+01,\n",
       "        1.7800e+02, 0.0000e+00, 0.0000e+00, 0.0000e+00, 0.0000e+00,\n",
       "        7.2000e+02, 6.2000e+02, 9.0000e+01, 0.0000e+00],\n",
       "       [1.7840e+03, 0.0000e+00, 3.3800e+02, 2.6300e+02, 5.0000e+00,\n",
       "        0.0000e+00, 0.0000e+00, 0.0000e+00, 0.0000e+00, 6.7700e+02,\n",
       "        0.0000e+00, 4.8500e+02, 0.0000e+00, 1.4120e+03, 5.0090e+03,\n",
       "        7.0300e+02, 0.0000e+00, 0.0000e+00, 0.0000e+00, 1.4700e+02,\n",
       "        0.0000e+00, 6.9400e+02, 0.0000e+00, 0.0000e+00],\n",
       "       [0.0000e+00, 0.0000e+00, 1.6000e+01, 0.0000e+00, 0.0000e+00,\n",
       "        0.0000e+00, 0.0000e+00, 0.0000e+00, 0.0000e+00, 0.0000e+00,\n",
       "        0.0000e+00, 0.0000e+00, 0.0000e+00, 0.0000e+00, 0.0000e+00,\n",
       "        0.0000e+00, 0.0000e+00, 0.0000e+00, 0.0000e+00, 4.0000e+00,\n",
       "        0.0000e+00, 0.0000e+00, 4.7080e+03, 0.0000e+00],\n",
       "       [0.0000e+00, 0.0000e+00, 0.0000e+00, 0.0000e+00, 0.0000e+00,\n",
       "        0.0000e+00, 0.0000e+00, 0.0000e+00, 0.0000e+00, 0.0000e+00,\n",
       "        0.0000e+00, 0.0000e+00, 0.0000e+00, 0.0000e+00, 0.0000e+00,\n",
       "        0.0000e+00, 0.0000e+00, 0.0000e+00, 0.0000e+00, 0.0000e+00,\n",
       "        0.0000e+00, 0.0000e+00, 0.0000e+00, 4.4170e+03]])"
      ]
     },
     "execution_count": 8,
     "metadata": {},
     "output_type": "execute_result"
    }
   ],
   "source": [
    "conf"
   ]
  },
  {
   "cell_type": "code",
   "execution_count": 11,
   "metadata": {},
   "outputs": [],
   "source": [
    "import csv\n",
    "\n",
    "with open(\"CNN_Partial_Confision_0.49.csv\",\"w+\") as my_csv:\n",
    "    csvWriter = csv.writer(my_csv,delimiter=',')\n",
    "    csvWriter.writerows(conf)"
   ]
  },
  {
   "cell_type": "code",
   "execution_count": null,
   "metadata": {},
   "outputs": [],
   "source": []
  }
 ],
 "metadata": {
  "kernelspec": {
   "display_name": "Python 3",
   "language": "python",
   "name": "python3"
  },
  "language_info": {
   "codemirror_mode": {
    "name": "ipython",
    "version": 3
   },
   "file_extension": ".py",
   "mimetype": "text/x-python",
   "name": "python",
   "nbconvert_exporter": "python",
   "pygments_lexer": "ipython3",
   "version": "3.7.3"
  }
 },
 "nbformat": 4,
 "nbformat_minor": 2
}
