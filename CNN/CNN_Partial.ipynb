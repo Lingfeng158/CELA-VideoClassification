{
 "cells": [
  {
   "cell_type": "code",
   "execution_count": 1,
   "metadata": {},
   "outputs": [
    {
     "name": "stderr",
     "output_type": "stream",
     "text": [
      "Using TensorFlow backend.\n"
     ]
    }
   ],
   "source": [
    "import tensorflow as tf\n",
    "import numpy as np\n",
    "from tensorflow import keras\n",
    "from keras import applications\n",
    "from keras.models import Sequential, Model, Input\n",
    "from keras.layers import Conv2D, MaxPooling2D\n",
    "from keras.layers import Conv2D, MaxPooling2D, LSTM, Reshape, Permute, TimeDistributed, CuDNNLSTM,LeakyReLU\n",
    "from keras.layers import Activation, Dropout, Flatten, Dense, BatchNormalization\n",
    "from keras.callbacks import ModelCheckpoint, LearningRateScheduler, TensorBoard, EarlyStopping\n",
    "from keras.optimizers import Adam"
   ]
  },
  {
   "cell_type": "code",
   "execution_count": 2,
   "metadata": {},
   "outputs": [],
   "source": [
    "train_path = '/home/livelab/Desktop/NewResizedBalanced5000/Training/' # directory containing subsets of data with labels\n",
    "valid_path = '/home/livelab/Desktop/NewResized/Validation/'\n",
    "test_path = '/home/livelab/Desktop/NewResized/Test/'"
   ]
  },
  {
   "cell_type": "code",
   "execution_count": 3,
   "metadata": {},
   "outputs": [],
   "source": [
    "def findLayerNumByName(model, name):\n",
    "    layerList=model.layers\n",
    "    return layerList.index(model.get_layer(layer_name))"
   ]
  },
  {
   "cell_type": "code",
   "execution_count": 5,
   "metadata": {},
   "outputs": [
    {
     "name": "stderr",
     "output_type": "stream",
     "text": [
      "/home/livelab/anaconda3/lib/python3.7/site-packages/keras_preprocessing/image/image_data_generator.py:336: UserWarning: This ImageDataGenerator specifies `zca_whitening`, which overrides setting of `featurewise_center`.\n",
      "  warnings.warn('This ImageDataGenerator specifies '\n"
     ]
    },
    {
     "name": "stdout",
     "output_type": "stream",
     "text": [
      "Found 119337 images belonging to 24 classes.\n",
      "Found 163247 images belonging to 24 classes.\n",
      "Found 171954 images belonging to 24 classes.\n"
     ]
    }
   ],
   "source": [
    "BATCH_SIZE = 64 # how many to process at once (greatest power of 2 that can ft in RAM)\n",
    "\n",
    "train_datagen = keras.preprocessing.image.ImageDataGenerator(zca_whitening=True, zca_epsilon=1e-06, rotation_range=0, width_shift_range=0.0, height_shift_range=0.0, brightness_range=None, \n",
    "                                                             shear_range=0.0, zoom_range=0.0, channel_shift_range=0.0, fill_mode='nearest', \n",
    "                                                             cval=0.0, horizontal_flip=True, vertical_flip=True)\n",
    "valid_datagen = keras.preprocessing.image.ImageDataGenerator()\n",
    "test_datagen = keras.preprocessing.image.ImageDataGenerator()\n",
    "\n",
    "# Use the ImageDataGenerators to load the training data\n",
    "train_gen = train_datagen.flow_from_directory(directory=train_path,\n",
    "                                    target_size=(256,256), # size to resize images to\n",
    "                                    color_mode='rgb', # color mode of the images\n",
    "                                    batch_size=BATCH_SIZE, # how many images to process at once\n",
    "                                    class_mode='categorical', # classify into categorical classes\n",
    "                                    shuffle=True # shuffle order of images\n",
    ")\n",
    "valid_gen = valid_datagen.flow_from_directory(directory=valid_path,\n",
    "                                    target_size=(256,256),\n",
    "                                    color_mode='rgb',\n",
    "                                    batch_size=BATCH_SIZE,\n",
    "                                    class_mode='categorical',\n",
    "                                    shuffle=True\n",
    ")\n",
    "test_gen = test_datagen.flow_from_directory(directory=test_path,\n",
    "                                    target_size=(256,256),\n",
    "                                    color_mode='rgb',\n",
    "                                    batch_size=BATCH_SIZE,\n",
    "                                    class_mode='categorical',\n",
    "                                    shuffle=False\n",
    ")"
   ]
  },
  {
   "cell_type": "code",
   "execution_count": 4,
   "metadata": {},
   "outputs": [
    {
     "name": "stdout",
     "output_type": "stream",
     "text": [
      "WARNING:tensorflow:From /home/livelab/anaconda3/lib/python3.7/site-packages/tensorflow/python/framework/op_def_library.py:263: colocate_with (from tensorflow.python.framework.ops) is deprecated and will be removed in a future version.\n",
      "Instructions for updating:\n",
      "Colocations handled automatically by placer.\n",
      "WARNING:tensorflow:From /home/livelab/anaconda3/lib/python3.7/site-packages/keras/backend/tensorflow_backend.py:3445: calling dropout (from tensorflow.python.ops.nn_ops) with keep_prob is deprecated and will be removed in a future version.\n",
      "Instructions for updating:\n",
      "Please use `rate` instead of `keep_prob`. Rate should be set to `rate = 1 - keep_prob`.\n"
     ]
    },
    {
     "name": "stderr",
     "output_type": "stream",
     "text": [
      "/home/livelab/anaconda3/lib/python3.7/site-packages/ipykernel_launcher.py:18: UserWarning: Update your `Model` call to the Keras 2 API: `Model(inputs=Tensor(\"in..., outputs=Tensor(\"de...)`\n"
     ]
    }
   ],
   "source": [
    "#full inception\n",
    "#freeze mix3 and prior\n",
    "inputData=Input(shape=(256, 256, 3))\n",
    "model = applications.inception_v3.InceptionV3(weights='imagenet', include_top=False,input_shape = ( 256, 256, 3))\n",
    "layer_name = 'mixed6'\n",
    "index=findLayerNumByName(model, layer_name)\n",
    "intermediate_model=Model(inputs=model.input,\n",
    "                                 outputs=model.get_layer(layer_name).output)\n",
    "# for layer in intermediate_model.layers:\n",
    "#     layer.trainable = False\n",
    "intermediateOut = Flatten()(intermediate_model.output)\n",
    "intermediateOut = Dense(32)(intermediateOut)\n",
    "intermediateOut = BatchNormalization()(intermediateOut)\n",
    "intermediateOut = LeakyReLU(alpha=0.1)(intermediateOut)\n",
    "intermediateOut = Dropout(0.4)(intermediateOut)\n",
    "prediction = Dense(24, activation='softmax')(intermediateOut)\n",
    "optmr = Adam(lr=0.0005, decay = 5e-4)\n",
    "model_final = Model(input = model.input, output = prediction)\n",
    "model_final.compile(loss = \"categorical_crossentropy\", optimizer = optmr, metrics=[\"accuracy\"])"
   ]
  },
  {
   "cell_type": "code",
   "execution_count": null,
   "metadata": {},
   "outputs": [],
   "source": [
    "model_final.summary()"
   ]
  },
  {
   "cell_type": "code",
   "execution_count": 6,
   "metadata": {},
   "outputs": [],
   "source": [
    "filepath = \"model_partial-x5-5000-{epoch:02d}-{val_acc:.2f}.hdf5\"\n",
    "checkpoint = ModelCheckpoint(filepath, monitor='val_acc', verbose=1, save_best_only=True,save_weights_only=True, mode='auto', period=1)\n",
    "callbacks_list = [checkpoint]"
   ]
  },
  {
   "cell_type": "code",
   "execution_count": 7,
   "metadata": {},
   "outputs": [],
   "source": [
    "STEP_SIZE_TRAIN=train_gen.n//train_gen.batch_size/20\n",
    "STEP_SIZE_VALID=valid_gen.n//valid_gen.batch_size"
   ]
  },
  {
   "cell_type": "code",
   "execution_count": 8,
   "metadata": {
    "scrolled": true
   },
   "outputs": [
    {
     "name": "stdout",
     "output_type": "stream",
     "text": [
      "WARNING:tensorflow:From /home/livelab/anaconda3/lib/python3.7/site-packages/tensorflow/python/ops/math_ops.py:3066: to_int32 (from tensorflow.python.ops.math_ops) is deprecated and will be removed in a future version.\n",
      "Instructions for updating:\n",
      "Use tf.cast instead.\n",
      "Epoch 1/40\n"
     ]
    },
    {
     "name": "stderr",
     "output_type": "stream",
     "text": [
      "/home/livelab/anaconda3/lib/python3.7/site-packages/keras_preprocessing/image/image_data_generator.py:716: UserWarning: This ImageDataGenerator specifies `featurewise_center`, but it hasn't been fit on any training data. Fit it first by calling `.fit(numpy_data)`.\n",
      "  warnings.warn('This ImageDataGenerator specifies '\n",
      "/home/livelab/anaconda3/lib/python3.7/site-packages/keras_preprocessing/image/image_data_generator.py:735: UserWarning: This ImageDataGenerator specifies `zca_whitening`, but it hasn't been fit on any training data. Fit it first by calling `.fit(numpy_data)`.\n",
      "  warnings.warn('This ImageDataGenerator specifies '\n"
     ]
    },
    {
     "name": "stdout",
     "output_type": "stream",
     "text": [
      "94/93 [==============================] - 346s 4s/step - loss: 2.5736 - acc: 0.2694 - val_loss: 2.6280 - val_acc: 0.3881\n",
      "\n",
      "Epoch 00001: val_acc improved from -inf to 0.38809, saving model to model_partial-x5-5000-01-0.39.hdf5\n",
      "Epoch 2/40\n",
      "94/93 [==============================] - 340s 4s/step - loss: 1.7347 - acc: 0.5332 - val_loss: 2.8038 - val_acc: 0.1636\n",
      "\n",
      "Epoch 00002: val_acc did not improve from 0.38809\n",
      "Epoch 3/40\n",
      "94/93 [==============================] - 341s 4s/step - loss: 1.4274 - acc: 0.6336 - val_loss: 2.5591 - val_acc: 0.3256\n",
      "\n",
      "Epoch 00003: val_acc did not improve from 0.38809\n",
      "Epoch 4/40\n",
      "94/93 [==============================] - 341s 4s/step - loss: 1.2042 - acc: 0.6973 - val_loss: 2.7479 - val_acc: 0.1692\n",
      "\n",
      "Epoch 00004: val_acc did not improve from 0.38809\n",
      "Epoch 5/40\n",
      "94/93 [==============================] - 341s 4s/step - loss: 1.0266 - acc: 0.7434 - val_loss: 2.2833 - val_acc: 0.4265\n",
      "\n",
      "Epoch 00005: val_acc improved from 0.38809 to 0.42648, saving model to model_partial-x5-5000-05-0.43.hdf5\n",
      "Epoch 6/40\n",
      "94/93 [==============================] - 341s 4s/step - loss: 0.8956 - acc: 0.7616 - val_loss: 2.7384 - val_acc: 0.1941\n",
      "\n",
      "Epoch 00006: val_acc did not improve from 0.42648\n",
      "Epoch 7/40\n",
      "94/93 [==============================] - 341s 4s/step - loss: 0.8089 - acc: 0.7834 - val_loss: 2.6694 - val_acc: 0.2126\n",
      "\n",
      "Epoch 00007: val_acc did not improve from 0.42648\n",
      "Epoch 8/40\n",
      "94/93 [==============================] - 341s 4s/step - loss: 0.7668 - acc: 0.7950 - val_loss: 1.9328 - val_acc: 0.4673\n",
      "\n",
      "Epoch 00008: val_acc improved from 0.42648 to 0.46734, saving model to model_partial-x5-5000-08-0.47.hdf5\n",
      "Epoch 9/40\n",
      "94/93 [==============================] - 340s 4s/step - loss: 0.7025 - acc: 0.8105 - val_loss: 2.8107 - val_acc: 0.1708\n",
      "\n",
      "Epoch 00009: val_acc did not improve from 0.46734\n",
      "Epoch 10/40\n",
      "94/93 [==============================] - 340s 4s/step - loss: 0.6486 - acc: 0.8245 - val_loss: 2.8159 - val_acc: 0.1661\n",
      "\n",
      "Epoch 00010: val_acc did not improve from 0.46734\n",
      "Epoch 11/40\n",
      "94/93 [==============================] - 341s 4s/step - loss: 0.6268 - acc: 0.8205 - val_loss: 2.5431 - val_acc: 0.2076\n",
      "\n",
      "Epoch 00011: val_acc did not improve from 0.46734\n",
      "Epoch 12/40\n",
      "94/93 [==============================] - 341s 4s/step - loss: 0.5800 - acc: 0.8364 - val_loss: 2.5044 - val_acc: 0.2599\n",
      "\n",
      "Epoch 00012: val_acc did not improve from 0.46734\n",
      "Epoch 13/40\n",
      "94/93 [==============================] - 341s 4s/step - loss: 0.5502 - acc: 0.8469 - val_loss: 2.2503 - val_acc: 0.2902\n",
      "\n",
      "Epoch 00013: val_acc did not improve from 0.46734\n",
      "Epoch 14/40\n",
      "94/93 [==============================] - 340s 4s/step - loss: 0.5218 - acc: 0.8504 - val_loss: 2.3452 - val_acc: 0.3037\n",
      "\n",
      "Epoch 00014: val_acc did not improve from 0.46734\n",
      "Epoch 15/40\n",
      "94/93 [==============================] - 340s 4s/step - loss: 0.5040 - acc: 0.8534 - val_loss: 2.7569 - val_acc: 0.1918\n",
      "\n",
      "Epoch 00015: val_acc did not improve from 0.46734\n",
      "Epoch 16/40\n",
      "94/93 [==============================] - 341s 4s/step - loss: 0.4915 - acc: 0.8615 - val_loss: 2.3958 - val_acc: 0.2631\n",
      "\n",
      "Epoch 00016: val_acc did not improve from 0.46734\n",
      "Epoch 17/40\n",
      "94/93 [==============================] - 341s 4s/step - loss: 0.4554 - acc: 0.8682 - val_loss: 2.2548 - val_acc: 0.3678\n",
      "\n",
      "Epoch 00017: val_acc did not improve from 0.46734\n",
      "Epoch 18/40\n",
      "94/93 [==============================] - 340s 4s/step - loss: 0.4240 - acc: 0.8800 - val_loss: 2.5020 - val_acc: 0.3110\n",
      "\n",
      "Epoch 00018: val_acc did not improve from 0.46734\n",
      "Epoch 19/40\n",
      "94/93 [==============================] - 340s 4s/step - loss: 0.4189 - acc: 0.8772 - val_loss: 2.1850 - val_acc: 0.3090\n",
      "\n",
      "Epoch 00019: val_acc did not improve from 0.46734\n",
      "Epoch 20/40\n",
      "94/93 [==============================] - 341s 4s/step - loss: 0.4241 - acc: 0.8743 - val_loss: 2.3015 - val_acc: 0.3811\n",
      "\n",
      "Epoch 00020: val_acc did not improve from 0.46734\n",
      "Epoch 21/40\n",
      "94/93 [==============================] - 341s 4s/step - loss: 0.3889 - acc: 0.8866 - val_loss: 2.2622 - val_acc: 0.3870\n",
      "\n",
      "Epoch 00021: val_acc did not improve from 0.46734\n",
      "Epoch 22/40\n",
      "94/93 [==============================] - 340s 4s/step - loss: 0.3860 - acc: 0.8895 - val_loss: 2.7290 - val_acc: 0.2159\n",
      "\n",
      "Epoch 00022: val_acc did not improve from 0.46734\n",
      "Epoch 23/40\n",
      "94/93 [==============================] - 340s 4s/step - loss: 0.3664 - acc: 0.8954 - val_loss: 2.3850 - val_acc: 0.3069\n",
      "\n",
      "Epoch 00023: val_acc did not improve from 0.46734\n",
      "Epoch 24/40\n",
      "94/93 [==============================] - 341s 4s/step - loss: 0.3831 - acc: 0.8895 - val_loss: 2.5187 - val_acc: 0.2781\n",
      "\n",
      "Epoch 00024: val_acc did not improve from 0.46734\n",
      "Epoch 25/40\n",
      "94/93 [==============================] - 340s 4s/step - loss: 0.3653 - acc: 0.8968 - val_loss: 2.5243 - val_acc: 0.2979\n",
      "\n",
      "Epoch 00025: val_acc did not improve from 0.46734\n",
      "Epoch 26/40\n",
      "94/93 [==============================] - 341s 4s/step - loss: 0.3244 - acc: 0.9074 - val_loss: 2.2901 - val_acc: 0.3733\n",
      "\n",
      "Epoch 00026: val_acc did not improve from 0.46734\n",
      "Epoch 27/40\n",
      "94/93 [==============================] - 341s 4s/step - loss: 0.3164 - acc: 0.9051 - val_loss: 2.4956 - val_acc: 0.3213\n",
      "\n",
      "Epoch 00027: val_acc did not improve from 0.46734\n",
      "Epoch 28/40\n",
      "94/93 [==============================] - 341s 4s/step - loss: 0.3446 - acc: 0.8979 - val_loss: 2.1662 - val_acc: 0.3846\n",
      "\n",
      "Epoch 00028: val_acc did not improve from 0.46734\n",
      "Epoch 29/40\n",
      "94/93 [==============================] - 341s 4s/step - loss: 0.3206 - acc: 0.9097 - val_loss: 2.3490 - val_acc: 0.3157\n",
      "\n",
      "Epoch 00029: val_acc did not improve from 0.46734\n",
      "Epoch 30/40\n",
      "94/93 [==============================] - 340s 4s/step - loss: 0.3049 - acc: 0.9096 - val_loss: 2.3123 - val_acc: 0.3009\n",
      "\n",
      "Epoch 00030: val_acc did not improve from 0.46734\n",
      "Epoch 31/40\n",
      "94/93 [==============================] - 341s 4s/step - loss: 0.3257 - acc: 0.9053 - val_loss: 2.3569 - val_acc: 0.3233\n",
      "\n",
      "Epoch 00031: val_acc did not improve from 0.46734\n",
      "Epoch 32/40\n",
      "94/93 [==============================] - 341s 4s/step - loss: 0.2809 - acc: 0.9134 - val_loss: 2.3781 - val_acc: 0.3339\n",
      "\n",
      "Epoch 00032: val_acc did not improve from 0.46734\n",
      "Epoch 33/40\n",
      "94/93 [==============================] - 341s 4s/step - loss: 0.2948 - acc: 0.9144 - val_loss: 2.0803 - val_acc: 0.4165\n",
      "\n",
      "Epoch 00033: val_acc did not improve from 0.46734\n",
      "Epoch 34/40\n",
      "94/93 [==============================] - 341s 4s/step - loss: 0.2942 - acc: 0.9127 - val_loss: 2.6387 - val_acc: 0.2542\n",
      "\n",
      "Epoch 00034: val_acc did not improve from 0.46734\n",
      "Epoch 35/40\n",
      "94/93 [==============================] - 341s 4s/step - loss: 0.2922 - acc: 0.9164 - val_loss: 2.8029 - val_acc: 0.2413\n",
      "\n",
      "Epoch 00035: val_acc did not improve from 0.46734\n",
      "Epoch 36/40\n",
      "94/93 [==============================] - 341s 4s/step - loss: 0.2748 - acc: 0.9154 - val_loss: 2.0669 - val_acc: 0.3974\n",
      "\n",
      "Epoch 00036: val_acc did not improve from 0.46734\n",
      "Epoch 37/40\n",
      "94/93 [==============================] - 341s 4s/step - loss: 0.2671 - acc: 0.9171 - val_loss: 2.4796 - val_acc: 0.3321\n",
      "\n",
      "Epoch 00037: val_acc did not improve from 0.46734\n",
      "Epoch 38/40\n",
      "94/93 [==============================] - 341s 4s/step - loss: 0.2701 - acc: 0.9186 - val_loss: 3.1526 - val_acc: 0.2135\n",
      "\n",
      "Epoch 00038: val_acc did not improve from 0.46734\n",
      "Epoch 39/40\n",
      "94/93 [==============================] - 341s 4s/step - loss: 0.2562 - acc: 0.9260 - val_loss: 2.7984 - val_acc: 0.2240\n",
      "\n",
      "Epoch 00039: val_acc did not improve from 0.46734\n",
      "Epoch 40/40\n",
      "94/93 [==============================] - 340s 4s/step - loss: 0.2385 - acc: 0.9326 - val_loss: 2.2440 - val_acc: 0.3550\n",
      "\n",
      "Epoch 00040: val_acc did not improve from 0.46734\n"
     ]
    }
   ],
   "source": [
    "with tf.device('/GPU:0'):\n",
    "    model_final.fit_generator(generator=train_gen,\n",
    "                        steps_per_epoch=STEP_SIZE_TRAIN, # number of steps in each epoch\n",
    "                        validation_data=valid_gen,\n",
    "                        validation_steps=STEP_SIZE_VALID,\n",
    "                        callbacks=callbacks_list,\n",
    "                        epochs=40\n",
    "    )"
   ]
  },
  {
   "cell_type": "code",
   "execution_count": 5,
   "metadata": {},
   "outputs": [],
   "source": [
    "model_final.load_weights(\"model_partial-x5-5000-08-0.47.hdf5\")"
   ]
  },
  {
   "cell_type": "code",
   "execution_count": 11,
   "metadata": {},
   "outputs": [
    {
     "name": "stdout",
     "output_type": "stream",
     "text": [
      "Accuracy: 0.4454069463028681\n"
     ]
    }
   ],
   "source": [
    "STEP_SIZE_TEST=test_gen.n//test_gen.batch_size\n",
    "# evaluate the function using the test set\n",
    "test_loss, test_acc = model_final.evaluate_generator(test_gen,\n",
    "                                            STEP_SIZE_TEST)\n",
    "\n",
    "# print test accuracy\n",
    "print('Accuracy: {}'.format(test_acc))"
   ]
  },
  {
   "cell_type": "code",
   "execution_count": 12,
   "metadata": {},
   "outputs": [
    {
     "name": "stdout",
     "output_type": "stream",
     "text": [
      "step  0  in  2686\n",
      "step  50  in  2686\n",
      "step  100  in  2686\n",
      "step  150  in  2686\n",
      "step  200  in  2686\n",
      "step  250  in  2686\n",
      "step  300  in  2686\n",
      "step  350  in  2686\n",
      "step  400  in  2686\n",
      "step  450  in  2686\n",
      "step  500  in  2686\n",
      "step  550  in  2686\n",
      "step  600  in  2686\n",
      "step  650  in  2686\n",
      "step  700  in  2686\n",
      "step  750  in  2686\n",
      "step  800  in  2686\n",
      "step  850  in  2686\n",
      "step  900  in  2686\n",
      "step  950  in  2686\n",
      "step  1000  in  2686\n",
      "step  1050  in  2686\n",
      "step  1100  in  2686\n",
      "step  1150  in  2686\n",
      "step  1200  in  2686\n",
      "step  1250  in  2686\n",
      "step  1300  in  2686\n",
      "step  1350  in  2686\n",
      "step  1400  in  2686\n",
      "step  1450  in  2686\n",
      "step  1500  in  2686\n",
      "step  1550  in  2686\n",
      "step  1600  in  2686\n",
      "step  1650  in  2686\n",
      "step  1700  in  2686\n",
      "step  1750  in  2686\n",
      "step  1800  in  2686\n",
      "step  1850  in  2686\n",
      "step  1900  in  2686\n",
      "step  1950  in  2686\n",
      "step  2000  in  2686\n",
      "step  2050  in  2686\n",
      "step  2100  in  2686\n",
      "step  2150  in  2686\n",
      "step  2200  in  2686\n",
      "step  2250  in  2686\n",
      "step  2300  in  2686\n",
      "step  2350  in  2686\n",
      "step  2400  in  2686\n",
      "step  2450  in  2686\n",
      "step  2500  in  2686\n",
      "step  2550  in  2686\n",
      "step  2600  in  2686\n",
      "step  2650  in  2686\n"
     ]
    }
   ],
   "source": [
    "#compute confusion ma14trix\n",
    "#col : truth, #row : pred\n",
    "conf=np.zeros((24,24))\n",
    "STEP_SIZE_TEST=test_gen.n//test_gen.batch_size\n",
    "for step in range(STEP_SIZE_TEST):\n",
    "    if(step%50==0):\n",
    "        print('step ', step, ' in ',  STEP_SIZE_TEST)\n",
    "    x,y = test_gen.__getitem__(step)\n",
    "    yh=model_final.predict(x)\n",
    "    for index in range(len(y)):\n",
    "        conf[np.argmax(y[index])][np.argmax(yh[index])]+=1\n"
   ]
  },
  {
   "cell_type": "code",
   "execution_count": null,
   "metadata": {},
   "outputs": [],
   "source": [
    "conf"
   ]
  },
  {
   "cell_type": "code",
   "execution_count": 13,
   "metadata": {},
   "outputs": [],
   "source": [
    "import csv\n",
    "\n",
    "with open(\"CNN_Partial_Confision_10000_0.45.csv\",\"w+\") as my_csv:\n",
    "    csvWriter = csv.writer(my_csv,delimiter=',')\n",
    "    csvWriter.writerows(conf)"
   ]
  },
  {
   "cell_type": "code",
   "execution_count": null,
   "metadata": {},
   "outputs": [],
   "source": []
  },
  {
   "cell_type": "code",
   "execution_count": 6,
   "metadata": {},
   "outputs": [
    {
     "name": "stderr",
     "output_type": "stream",
     "text": [
      "/home/livelab/anaconda3/lib/python3.7/site-packages/sklearn/preprocessing/_encoders.py:415: FutureWarning: The handling of integer data will change in version 0.22. Currently, the categories are determined based on the range [0, max(values)], while in the future they will be determined based on the unique values.\n",
      "If you want the future behaviour and silence this warning, you can specify \"categories='auto'\".\n",
      "In case you used a LabelEncoder before this OneHotEncoder to convert the categories to integers, then you can now use the OneHotEncoder directly.\n",
      "  warnings.warn(msg, FutureWarning)\n"
     ]
    }
   ],
   "source": [
    "import sys\n",
    "# insert at 1, 0 is the script path (or '' in REPL)\n",
    "sys.path.insert(1, '../Preprocessing')\n",
    "from imgDataGenerator import *\n",
    "from preprocessing import *\n",
    "testPath='/home/livelab/Desktop/NewResizedBinned/Test'\n",
    "testGen=imgDataGenerator(testPath, shuffle=False)"
   ]
  },
  {
   "cell_type": "code",
   "execution_count": 7,
   "metadata": {},
   "outputs": [
    {
     "name": "stdout",
     "output_type": "stream",
     "text": [
      "step  0  in  1057\n",
      "step  50  in  1057\n",
      "step  100  in  1057\n",
      "step  150  in  1057\n",
      "step  200  in  1057\n",
      "step  250  in  1057\n",
      "step  300  in  1057\n",
      "step  350  in  1057\n",
      "step  400  in  1057\n",
      "step  450  in  1057\n",
      "step  500  in  1057\n",
      "step  550  in  1057\n",
      "step  600  in  1057\n",
      "step  650  in  1057\n",
      "step  700  in  1057\n",
      "step  750  in  1057\n",
      "step  800  in  1057\n",
      "step  850  in  1057\n",
      "step  900  in  1057\n",
      "step  950  in  1057\n",
      "step  1000  in  1057\n",
      "step  1050  in  1057\n"
     ]
    }
   ],
   "source": [
    "#compute confusion matrix for majority vote\n",
    "#col : truth, #row : pred\n",
    "conf=np.zeros((24,24))\n",
    "STEP_SIZE_TEST=len(testGen.labels)//testGen.batch_size\n",
    "for step in range(STEP_SIZE_TEST):\n",
    "    if(step%50==0):\n",
    "        print('step ', step, ' in ',  STEP_SIZE_TEST)\n",
    "    x,y = testGen.__getitem__(step)\n",
    "    \n",
    "    yh=model_final.predict(x[0])\n",
    "    major=np.zeros(24)\n",
    "    for eachYh in yh:\n",
    "        major=major+eachYh\n",
    "    conf[np.argmax(y)][np.argmax(major)]+=1\n",
    "#     for index in range(len(y)):\n",
    "#         conf[np.argmax(y[index])][np.argmax(yh[index])]+=1"
   ]
  },
  {
   "cell_type": "code",
   "execution_count": 8,
   "metadata": {},
   "outputs": [],
   "source": [
    "import csv\n",
    "\n",
    "with open(\"model_partial_major_5k_0.50.csv\",\"w+\") as my_csv:\n",
    "    csvWriter = csv.writer(my_csv,delimiter=',')\n",
    "    csvWriter.writerows(conf)"
   ]
  },
  {
   "cell_type": "code",
   "execution_count": null,
   "metadata": {},
   "outputs": [],
   "source": []
  }
 ],
 "metadata": {
  "kernelspec": {
   "display_name": "Python 3",
   "language": "python",
   "name": "python3"
  },
  "language_info": {
   "codemirror_mode": {
    "name": "ipython",
    "version": 3
   },
   "file_extension": ".py",
   "mimetype": "text/x-python",
   "name": "python",
   "nbconvert_exporter": "python",
   "pygments_lexer": "ipython3",
   "version": "3.7.3"
  }
 },
 "nbformat": 4,
 "nbformat_minor": 2
}
