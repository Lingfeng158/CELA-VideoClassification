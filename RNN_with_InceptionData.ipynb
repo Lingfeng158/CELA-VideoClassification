{
 "cells": [
  {
   "cell_type": "code",
   "execution_count": 1,
   "metadata": {},
   "outputs": [
    {
     "name": "stderr",
     "output_type": "stream",
     "text": [
      "Using TensorFlow backend.\n"
     ]
    }
   ],
   "source": [
    "import sys\n",
    "# insert at 1, 0 is the script path (or '' in REPL)\n",
    "sys.path.insert(1, './Preprocessing')\n",
    "import numpy as np\n",
    "import os\n",
    "#os.environ[\"KERAS_BACKEND\"] = \"plaidml.keras.backend\"\n",
    "from preprocessing import *\n",
    "\n",
    "import keras\n",
    "from keras import applications\n",
    "from keras.models import Sequential, Model, Input\n",
    "from keras.layers import Conv2D, MaxPooling2D, LSTM, Reshape, Permute, TimeDistributed\n",
    "from keras.layers import Activation, Dropout, Flatten, Dense, BatchNormalization\n",
    "\n",
    "from keras.optimizers import SGD\n",
    "from keras.callbacks import ModelCheckpoint, LearningRateScheduler, TensorBoard, EarlyStopping\n",
    "from keras.layers.merge import concatenate\n",
    "#suppress warnings\n",
    "import warnings\n",
    "warnings.filterwarnings('ignore')"
   ]
  },
  {
   "cell_type": "code",
   "execution_count": 2,
   "metadata": {},
   "outputs": [],
   "source": [
    "#Note for Test, Training, and Validation folders, they all need to have same categories\n",
    "#possibly make a function to check and pad categories\n",
    "testPath='/Users/lingfengli/Desktop/SIR/cela-tf-starter/ResizeBinned/Test'\n",
    "#trainPath='/Users/lingfengli/Desktop/SIR/cela-tf-starter/ResizeBinned/Training'\n",
    "#validPath='/Users/lingfengli/Desktop/SIR/cela-tf-starter/ResizeBinned/Validation'\n",
    "testl,testd=prepdata(testPath)\n",
    "#trainl,traind=prepdata(trainPath)\n",
    "#validl,validd=prepdata(validPath)"
   ]
  },
  {
   "cell_type": "code",
   "execution_count": 3,
   "metadata": {},
   "outputs": [
    {
     "name": "stdout",
     "output_type": "stream",
     "text": [
      "WARNING:tensorflow:From /Users/lingfengli/anaconda3/lib/python3.7/site-packages/tensorflow/python/framework/op_def_library.py:263: colocate_with (from tensorflow.python.framework.ops) is deprecated and will be removed in a future version.\n",
      "Instructions for updating:\n",
      "Colocations handled automatically by placer.\n"
     ]
    }
   ],
   "source": [
    "#Using Pretrained Inception Data\n",
    "model = Sequential()\n",
    "model.add(LSTM(512, return_sequences = True, input_shape=(None, 46080)))\n",
    "model.add(BatchNormalization())\n",
    "model.add(LSTM(256, return_sequences = True))\n",
    "model.add(BatchNormalization())\n",
    "model.add(LSTM(128, return_sequences = True))\n",
    "model.add(BatchNormalization())\n",
    "model.add(LSTM(64, return_sequences = True))\n",
    "model.add(BatchNormalization())\n",
    "model.add(Dense(32, activation='relu'))\n",
    "model.add(Dense(25, activation='softmax'))\n",
    "optmr = keras.optimizers.adam(lr=0.001, decay = 1e-5)\n",
    "model.compile(loss = \"categorical_crossentropy\", optimizer = optmr, metrics=[\"accuracy\"])"
   ]
  },
  {
   "cell_type": "code",
   "execution_count": null,
   "metadata": {},
   "outputs": [],
   "source": []
  }
 ],
 "metadata": {
  "kernelspec": {
   "display_name": "Python 3",
   "language": "python",
   "name": "python3"
  },
  "language_info": {
   "codemirror_mode": {
    "name": "ipython",
    "version": 3
   },
   "file_extension": ".py",
   "mimetype": "text/x-python",
   "name": "python",
   "nbconvert_exporter": "python",
   "pygments_lexer": "ipython3",
   "version": "3.7.3"
  }
 },
 "nbformat": 4,
 "nbformat_minor": 2
}
