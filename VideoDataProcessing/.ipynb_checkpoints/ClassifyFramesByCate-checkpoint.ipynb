{
 "cells": [
  {
   "cell_type": "code",
   "execution_count": 3,
   "metadata": {},
   "outputs": [],
   "source": [
    "import pandas as pd\n",
    "import os"
   ]
  },
  {
   "cell_type": "code",
   "execution_count": 42,
   "metadata": {},
   "outputs": [],
   "source": [
    "pathToCSV='/home/billy/Desktop/CELA-VideoClassification/VideoDataProcessing/framecsv'\n",
    "CSVName='{}frame.csv'\n",
    "subjects=['S1','S2','S3','S4','S5','S6','S7']\n",
    "CSVHeader=['PROCEDURE','Original_Start_Time','Original_Stop_Time']\n",
    "adjustedStartingFrame={'S1':24030/30*29.97,'S2':30060/30*29.97,'S3':79650/30*29.97,\n",
    "                         'S4':39600/30*29.97,'S5':24120/30*29.97,'S6':28320/30*29.97,'S7':34800/30*29.97}\n",
    "TTVList=['Training', 'Test', 'Validation']\n",
    "cpCmd='cp {} {}'\n",
    "pathToDataList=[]\n",
    "pathToDestination=''"
   ]
  },
  {
   "cell_type": "code",
   "execution_count": 41,
   "metadata": {},
   "outputs": [],
   "source": [
    "def makedir(dirName):\n",
    "    if not os.path.exists(dirName):\n",
    "        cmd=\"mkdir {}\"\n",
    "        os.system(cmd.format( dirName))"
   ]
  },
  {
   "cell_type": "code",
   "execution_count": 45,
   "metadata": {},
   "outputs": [],
   "source": [
    "def padNameWithQuotes(name):\n",
    "    return '\"'+name+'\"'"
   ]
  },
  {
   "cell_type": "code",
   "execution_count": 50,
   "metadata": {},
   "outputs": [
    {
     "data": {
      "text/plain": [
       "7011.743496503379"
      ]
     },
     "execution_count": 50,
     "metadata": {},
     "output_type": "execute_result"
    }
   ],
   "source": [
    "df[CSVHeader[2]][1]"
   ]
  },
  {
   "cell_type": "code",
   "execution_count": null,
   "metadata": {},
   "outputs": [],
   "source": [
    "def categorizedFrameData(ID):\n",
    "    \n",
    "    if ID< 5:\n",
    "        TTVid=0\n",
    "    elif ID == 5:\n",
    "        TTVid=1\n",
    "    else:\n",
    "        TTVid=2\n",
    "    pathToTTV=os.path.join(pathToDes,TTVList[TTVid])\n",
    "    makedir(pathToTTV)\n",
    "    #prepare CSV\n",
    "    df=pd.read_csv(os.path.join(pathToCSV,CSVName.format(subjects[ID])))\n",
    "    \n",
    "    #read in list data from Data folder\n",
    "    pathToData=pathToDataList[ID]\n",
    "    listOfData=os.listdir(pathToData)\n",
    "    listOfData.sort()\n",
    "    counterInCSV=0\n",
    "    for data in listOfData:\n",
    "        frameNo=int(data[4:10])\n",
    "        categoryStart=df[CSVHeader[1]][counterInCSV]\n",
    "        categoryEnd=df[CSVHeader[2]][counterInCSV]\n",
    "        categoryName=cf[CSVHeader[0]][counterInCSV]\n",
    "        adjustedStart=int(categoryStart+adjustedStartingFrame[ID])\n",
    "        adjustedEnd=int(categoryEnd+adjustedStartingFrame[ID])\n",
    "        #if smaller than starting time, then ignore\n",
    "        if(frameNo<adjustedStart):\n",
    "            continue\n",
    "        #if in between the time, then copy the frame image to destination given by 'PROCEDURE'\n",
    "        elif(frameNo>=adjustedStart and frameNo<adjustedEnd):\n",
    "            fullPathToData=os.path.join(pathToData,data)\n",
    "            pathToDesCate=os.path.join(pathToTTV, categoryName)\n",
    "            makedir(padNameWithQuotes(pathToDesCate))\n",
    "            os.system(cpCmd.format(padNameWithQuotes(fullPathToData),padNameWithQuotes(pathToDesCate)))\n",
    "        elif(frameNo>=adjustedStart and frameNo=adjustedEnd):\n",
    "            fullPathToData=os.path.join(pathToData,data)\n",
    "            pathToDesCate=os.path.join(pathToTTV, categoryName)\n",
    "            makedir(padNameWithQuotes(pathToDesCate))\n",
    "            os.system(cpCmd.format(padNameWithQuotes(fullPathToData),padNameWithQuotes(pathToDesCate)))\n",
    "            counterInCSV+=1\n",
    "        "
   ]
  },
  {
   "cell_type": "code",
   "execution_count": 44,
   "metadata": {},
   "outputs": [
    {
     "data": {
      "text/plain": [
       "0"
      ]
     },
     "execution_count": 44,
     "metadata": {},
     "output_type": "execute_result"
    }
   ],
   "source": [
    "pool = multiprocessing.Pool(2)\n",
    "N = 7\n",
    "_=pool.map(categorizedFrameData,range(7))\n",
    "pool.close()\n",
    "pool.join()"
   ]
  },
  {
   "cell_type": "code",
   "execution_count": 49,
   "metadata": {},
   "outputs": [
    {
     "data": {
      "text/plain": [
       "'123/\"456\"'"
      ]
     },
     "execution_count": 49,
     "metadata": {},
     "output_type": "execute_result"
    }
   ],
   "source": []
  },
  {
   "cell_type": "code",
   "execution_count": null,
   "metadata": {},
   "outputs": [],
   "source": []
  }
 ],
 "metadata": {
  "kernelspec": {
   "display_name": "Python 3",
   "language": "python",
   "name": "python3"
  },
  "language_info": {
   "codemirror_mode": {
    "name": "ipython",
    "version": 3
   },
   "file_extension": ".py",
   "mimetype": "text/x-python",
   "name": "python",
   "nbconvert_exporter": "python",
   "pygments_lexer": "ipython3",
   "version": "3.7.3"
  }
 },
 "nbformat": 4,
 "nbformat_minor": 2
}
