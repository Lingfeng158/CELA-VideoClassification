{
 "cells": [
  {
   "cell_type": "code",
   "execution_count": 30,
   "metadata": {},
   "outputs": [],
   "source": [
    "import pandas as pd\n",
    "import os\n",
    "import multiprocessing\n",
    "import threading"
   ]
  },
  {
   "cell_type": "code",
   "execution_count": 31,
   "metadata": {},
   "outputs": [],
   "source": [
    "pathToCSV='/home/livelab/Desktop/CELA-VideoClassification/VideoDataProcessing/framecsv'\n",
    "CSVName='{}frame.csv'\n",
    "subjects=['S1','S2','S3','S4','S5','S6','S7']\n",
    "CSVHeader=['PROCEDURE','Original_Start_Time','Original_Stop_Time']\n",
    "adjustedStartingFrame={'S1':24030/30*29.97,'S2':30060/30*29.97,'S3':79650/30*29.97,\n",
    "                         'S4':39600/30*29.97,'S5':24120/30*29.97,'S6':28320/30*29.97,'S7':34800/30*29.97}\n",
    "TTVList=['Training', 'Test', 'Validation']\n",
    "cpCmd='cp {} {}'\n",
    "pathToDataList=['/media/livelab/Samsung_T5/MedicalProdecureFrames/Vid2FrameS1',\n",
    "               '/media/livelab/Storage/Vid2FrameS2',\n",
    "               '/media/livelab/Samsung_T5/MedicalProdecureFrames/Vid2FrameS3',\n",
    "               '/media/livelab/Storage/Vid2FrameS4',\n",
    "               '/media/livelab/Samsung_T5/MedicalProdecureFrames/Vid2FrameS5',\n",
    "               '/media/livelab/Storage/Vid2FrameS6',\n",
    "               '/media/livelab/Samsung_T5/MedicalProdecureFrames/Vid2FrameS7',]\n",
    "pathToDestination='/media/livelab/Storage/NewFrameData'"
   ]
  },
  {
   "cell_type": "code",
   "execution_count": 32,
   "metadata": {},
   "outputs": [],
   "source": [
    "def makedir(dirName):\n",
    "    if not os.path.exists(dirName):\n",
    "        cmd='mkdir \"{}\"'\n",
    "        os.system(cmd.format( dirName))"
   ]
  },
  {
   "cell_type": "code",
   "execution_count": 33,
   "metadata": {},
   "outputs": [
    {
     "name": "stdout",
     "output_type": "stream",
     "text": [
      "length 197\n"
     ]
    },
    {
     "data": {
      "text/plain": [
       "0                        CLAP\n",
       "1                 ORAL AIRWAY\n",
       "2                     BAGGING\n",
       "3                  INTUBATION\n",
       "4                  INTUBATION\n",
       "5                 ORAL AIRWAY\n",
       "6                 KING AIRWAY\n",
       "7                 ORAL AIRWAY\n",
       "8      SWAB AREA WITH ALCOHOL\n",
       "9             DRAW MEDICATION\n",
       "10          IM ADMINISTRATION\n",
       "11            CHEST-TUBE PREP\n",
       "12                 CHEST-TUBE\n",
       "13                   SUTURING\n",
       "14     SWAB AREA WITH ALCOHOL\n",
       "15            DRAW MEDICATION\n",
       "16     SWAB AREA WITH ALCOHOL\n",
       "17          IM ADMINISTRATION\n",
       "18                  ECG LEADS\n",
       "19                   PULSE-OX\n",
       "20        BLOOD-PRESSURE CUFF\n",
       "21             VITAL CHECKING\n",
       "22          COMBAT TOURNIQUET\n",
       "23                  SPLINTING\n",
       "24               COMBAT GAUZE\n",
       "25            WRAP HEAD WOUND\n",
       "26          CPR (COMPRESSION)\n",
       "27               CPR (BREATH)\n",
       "28          CPR (COMPRESSION)\n",
       "29               CPR (BREATH)\n",
       "                ...          \n",
       "167    SWAB AREA WITH ALCOHOL\n",
       "168    SWAB AREA WITH ALCOHOL\n",
       "169           DRAW MEDICATION\n",
       "170         IM ADMINISTRATION\n",
       "171           CHEST-TUBE PREP\n",
       "172                CHEST-TUBE\n",
       "173                  SUTURING\n",
       "174         COMBAT TOURNIQUET\n",
       "175                 SPLINTING\n",
       "176              COMBAT GAUZE\n",
       "177           WRAP HEAD WOUND\n",
       "178    SWAB AREA WITH ALCOHOL\n",
       "179                   IO LINE\n",
       "180    SWAB AREA WITH ALCOHOL\n",
       "181           DRAW MEDICATION\n",
       "182     ADMINISTER MEDICATION\n",
       "183             IV TOURNIQUET\n",
       "184    SWAB AREA WITH ALCOHOL\n",
       "185                   IV LINE\n",
       "186    SWAB AREA WITH ALCOHOL\n",
       "187           DRAW MEDICATION\n",
       "188     ADMINISTER MEDICATION\n",
       "189             IV TOURNIQUET\n",
       "190    SWAB AREA WITH ALCOHOL\n",
       "191                   IV LINE\n",
       "192    SWAB AREA WITH ALCOHOL\n",
       "193           DRAW MEDICATION\n",
       "194     ADMINISTER MEDICATION\n",
       "195                      CLAP\n",
       "196                INTUBATION\n",
       "Name: PROCEDURE, Length: 197, dtype: object"
      ]
     },
     "execution_count": 33,
     "metadata": {},
     "output_type": "execute_result"
    }
   ],
   "source": [
    "df=pd.read_csv(os.path.join(pathToCSV,CSVName.format(subjects[6])))\n",
    "print('length',len(df[CSVHeader[0]]))\n",
    "df[CSVHeader[0]]"
   ]
  },
  {
   "cell_type": "code",
   "execution_count": 34,
   "metadata": {},
   "outputs": [],
   "source": [
    "def padNameWithQuotes(name):\n",
    "    return '\"'+name+'\"'"
   ]
  },
  {
   "cell_type": "code",
   "execution_count": 35,
   "metadata": {},
   "outputs": [],
   "source": [
    "def categorizedFrameData(ID):\n",
    "    print(ID)\n",
    "    if ID< 5:\n",
    "        TTVid=0\n",
    "    elif ID == 5:\n",
    "        TTVid=1\n",
    "    else:\n",
    "        TTVid=2\n",
    "    pathToTTV=os.path.join(pathToDestination,TTVList[TTVid])\n",
    "    makedir(pathToTTV)\n",
    "    #prepare CSV\n",
    "    df=pd.read_csv(os.path.join(pathToCSV,CSVName.format(subjects[ID])))\n",
    "    \n",
    "    #read in list data from Data folder\n",
    "    pathToData=pathToDataList[ID]\n",
    "    listOfData=os.listdir(pathToData)\n",
    "    listOfData.sort()\n",
    "    counterInCSV=0\n",
    "    for data in listOfData:\n",
    "        if counterInCSV == len(df[CSVHeader[0]]):\n",
    "            continue\n",
    "        frameNo=int(data[4:10])\n",
    "        if(frameNo%40000==0):\n",
    "            print (frameNo, counterInCSV)\n",
    "        categoryStart=df[CSVHeader[1]][counterInCSV]\n",
    "        categoryEnd=df[CSVHeader[2]][counterInCSV]\n",
    "        categoryName=df[CSVHeader[0]][counterInCSV]\n",
    "        adjustedStart=int(float(categoryStart)+adjustedStartingFrame[subjects[ID]])\n",
    "        adjustedEnd=int(float(categoryEnd)+adjustedStartingFrame[subjects[ID]])\n",
    "        #if smaller than starting time, then ignore\n",
    "        if(frameNo<adjustedStart):\n",
    "            continue\n",
    "        #if in between the time, then copy the frame image to destination given by 'PROCEDURE'\n",
    "        elif(frameNo>=adjustedStart and frameNo<=adjustedEnd):\n",
    "            fullPathToData=os.path.join(pathToData,data)\n",
    "            pathToDesCate=os.path.join(pathToTTV, categoryName)\n",
    "            makedir(pathToDesCate)\n",
    "            os.system(cpCmd.format(padNameWithQuotes(fullPathToData),padNameWithQuotes(pathToDesCate)))\n",
    "            if frameNo==adjustedEnd:\n",
    "                counterInCSV+=1"
   ]
  },
  {
   "cell_type": "code",
   "execution_count": 36,
   "metadata": {},
   "outputs": [
    {
     "name": "stdout",
     "output_type": "stream",
     "text": [
      "6\n",
      "40000 2\n",
      "80000 13\n",
      "120000 55\n",
      "160000 84\n",
      "200000 110\n",
      "240000 141\n",
      "280000 172\n",
      "320000 195\n"
     ]
    }
   ],
   "source": [
    "pool = multiprocessing.Pool(2)\n",
    "N = 7\n",
    "_=pool.map(categorizedFrameData,[6])\n",
    "pool.close()\n",
    "pool.join()"
   ]
  },
  {
   "cell_type": "code",
   "execution_count": 3,
   "metadata": {},
   "outputs": [
    {
     "data": {
      "text/plain": [
       "'qwer try/ret wwe'"
      ]
     },
     "execution_count": 3,
     "metadata": {},
     "output_type": "execute_result"
    }
   ],
   "source": [
    "a='qwer try'\n",
    "b='ret wwe'\n",
    "\n",
    "os.path.join(a,b)"
   ]
  },
  {
   "cell_type": "code",
   "execution_count": 10,
   "metadata": {},
   "outputs": [
    {
     "data": {
      "text/plain": [
       "4"
      ]
     },
     "execution_count": 10,
     "metadata": {},
     "output_type": "execute_result"
    }
   ],
   "source": [
    "20%8"
   ]
  },
  {
   "cell_type": "code",
   "execution_count": null,
   "metadata": {},
   "outputs": [],
   "source": []
  }
 ],
 "metadata": {
  "kernelspec": {
   "display_name": "Python 3",
   "language": "python",
   "name": "python3"
  },
  "language_info": {
   "codemirror_mode": {
    "name": "ipython",
    "version": 3
   },
   "file_extension": ".py",
   "mimetype": "text/x-python",
   "name": "python",
   "nbconvert_exporter": "python",
   "pygments_lexer": "ipython3",
   "version": "3.7.3"
  }
 },
 "nbformat": 4,
 "nbformat_minor": 2
}
